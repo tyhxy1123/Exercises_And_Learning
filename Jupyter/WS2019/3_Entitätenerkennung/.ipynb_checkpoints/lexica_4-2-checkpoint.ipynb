{
 "cells": [
  {
   "cell_type": "markdown",
   "metadata": {
    "colab_type": "text",
    "id": "7HCU43qP2Mei"
   },
   "source": [
    "Version: 2019.11.19\n",
    "\n",
    "---"
   ]
  },
  {
   "cell_type": "markdown",
   "metadata": {
    "colab_type": "text",
    "id": "wzRM1z5yo2MS"
   },
   "source": [
    "# Entitätenerkennung mit Lexika\n",
    "## Aufgabe 1 - Levensthein-Distanz\n",
    "Die Levensthein-Distanz kann genutzt werden um Entitäten trotz Rechtschreibfehlern zu erkennen.\n",
    "\n",
    "1. Vervollständigen Sie den Code zur Berechnung der Levensthein-Distanz.\n",
    "2. Berechnen Sie schriftlich die Levensthein-Distanz der Wörter \"Peter\" und \"Per\", sowie von \"Dieter\" und \"Pitr\". Vergleichen Sie die Ergebnisse mit denen Ihrer Funktion.\n",
    "3. In natürlichen Sprachen werden besonders häufig die Buchstaben o/u, e/i, p/b, d/t, usw. miteinander vertauscht. Erweitern Sie diese Liste entsprechend Ihren eigenen Erfahrungen und implementieren Sie die nötigen Änderungen, um diese Verwechslungen mit 0,5 statt mit 1 zu bestrafen."
   ]
  },
  {
   "cell_type": "markdown",
   "metadata": {
    "colab_type": "text",
    "id": "Erj8fNk4suwY"
   },
   "source": [
    "### 1. Vervollständigen Sie den Code zur Berechnung der Levensthein-Distanz."
   ]
  },
  {
   "cell_type": "code",
   "execution_count": 2,
   "metadata": {
    "colab": {},
    "colab_type": "code",
    "id": "XwaByuOBs9lm"
   },
   "outputs": [],
   "source": [
    "def lev(a, b):\n",
    "  row, col = len(a), len(b)\n",
    "  d = {} # dictionary \"misused\" as matrix\n",
    "  for i in range(0, row + 1):\n",
    "    d[(i, 0)] = i\n",
    "  for j in range(0, col + 1):\n",
    "    d[(0, j)] = j\n",
    "  for i in range(1, row + 1):\n",
    "    for j in range(1, col + 1):\n",
    "      # delta is 1 iff mismatch of characters\n",
    "      delta = int(a[i - 1] != b[j - 1])\n",
    "      d[(i, j)] = min(d[(i-1,j)] + 1,\n",
    "                      d[(i,j-1)] + 1,\n",
    "                      d[(i-1,j-1)] + delta)\n",
    "  matrix = [[0 for x in range(col+1)] for y in range(row+1)] \n",
    "  for key, value in d.items():\n",
    "      matrix[key[0]][key[1]] = value\n",
    "  print('\\n'.join(['\\t'.join([str(cell) for cell in row]) for row in matrix]))\n",
    "\n",
    "  return d[(row, col)]\n"
   ]
  },
  {
   "cell_type": "markdown",
   "metadata": {
    "colab_type": "text",
    "id": "2XS5La8yt1Fk"
   },
   "source": [
    "### 2. Berechnen Sie die Levensthein-Distanz von \"Per\" und \"Peter\", sowie \"Pitr\" und \"Dieter\"."
   ]
  },
  {
   "cell_type": "code",
   "execution_count": 6,
   "metadata": {
    "colab": {},
    "colab_type": "code",
    "id": "G2YIK958uGfM"
   },
   "outputs": [
    {
     "name": "stdout",
     "output_type": "stream",
     "text": [
      "0\t1\t2\t3\t4\t5\n",
      "1\t0\t1\t2\t3\t4\n",
      "2\t1\t0\t1\t1\t2\n",
      "3\t2\t1\t1\t2\t1\n",
      "lev(\"Per\", \"Peter\") = 1\n"
     ]
    }
   ],
   "source": [
    "print(\"lev(\\\"Per\\\", \\\"Peter\\\") =\", lev(\"Per\",\"Peter\"))"
   ]
  },
  {
   "cell_type": "code",
   "execution_count": 0,
   "metadata": {
    "colab": {},
    "colab_type": "code",
    "id": "XFzOMSTT0Ep-"
   },
   "outputs": [],
   "source": [
    "print(\"lev(\\\"Pitr\\\", \\\"Dieter\\\") =\", lev( \"Pitr\",\"Dieter\"))"
   ]
  },
  {
   "cell_type": "markdown",
   "metadata": {
    "colab_type": "text",
    "id": "JsZZ-WD5_cHF"
   },
   "source": [
    "### 3. Vervollständigen und ändern Sie den Code zur Berechnung der angepassten Levensthein-Distanz."
   ]
  },
  {
   "cell_type": "code",
   "execution_count": 41,
   "metadata": {
    "colab": {},
    "colab_type": "code",
    "id": "nZRwewMA0nii"
   },
   "outputs": [],
   "source": [
    "# Define all good mismatches\n",
    "lower_score_set = set([('o', 'u'), ('u', 'o'),\n",
    "         ('e', 'i'), ('i', 'e'),\n",
    "         ('p', 'b'), ('b', 'p'),\n",
    "         ('d', 't'), ('t', 'd'),\n",
    "         ('k', 'c'), ('c', 'k')])\n",
    "\n",
    "def score(char_a, char_b,cost):\n",
    "  if (char_a, char_b) in lower_score_set:\n",
    "    return cost\n",
    "  elif char_a != char_b:\n",
    "    return 1\n",
    "  else:\n",
    "    return 0\n",
    "\n",
    "def lev_adapt(a, b,cost):\n",
    "  row, col = len(a), len(b)\n",
    "  d = {} # dictionary \"misused\" as matrix\n",
    "  for i in range(0, row + 1):\n",
    "    d[(i, 0)] = i\n",
    "  for j in range(0, col + 1):\n",
    "    d[(0, j)] = j\n",
    "  for i in range(1, row + 1):\n",
    "    for j in range(1, col + 1):\n",
    "      delta=score(a[i-1], b[j-1], cost)\n",
    "      d[(i, j)] = min(d[(i-1,j)] + 1,\n",
    "                      d[(i,j-1)] + 1,\n",
    "                      d[(i-1,j-1)] + delta)\n",
    "  matrix = [[0 for x in range(col+1)] for y in range(row+1)] \n",
    "  for key, value in d.items():\n",
    "      matrix[key[0]][key[1]] = value\n",
    "  print('\\n'.join(['\\t'.join([str(cell) for cell in row]) for row in matrix]))\n",
    "\n",
    "  return d[(row, col)]"
   ]
  },
  {
   "cell_type": "code",
   "execution_count": 42,
   "metadata": {
    "colab": {},
    "colab_type": "code",
    "id": "psZy9DY28-Sn"
   },
   "outputs": [],
   "source": [
    "cost = 0.5 #@param {type:\"number\"}"
   ]
  },
  {
   "cell_type": "code",
   "execution_count": 43,
   "metadata": {
    "colab": {},
    "colab_type": "code",
    "id": "lD88_KIu1FCG"
   },
   "outputs": [
    {
     "name": "stdout",
     "output_type": "stream",
     "text": [
      "0\t1\t2\t3\t4\t5\t6\n",
      "1\t0\t1\t2\t3\t4\t5\n",
      "2\t1\t0\t1\t2\t3\t4\n",
      "3\t2\t1\t0.5\t1.5\t2.5\t3.5\n",
      "4\t3\t2\t1.5\t0.5\t1.5\t2.5\n",
      "5\t4\t3\t2.5\t1.5\t0.5\t1.5\n",
      "6\t5\t4\t3.5\t2.5\t1.5\t0.5\n",
      "lev_adapt(\"Nicole\", \"Nikole\") = 0.5\n"
     ]
    }
   ],
   "source": [
    "print(\"lev_adapt(\\\"Nicole\\\", \\\"Nikole\\\") =\", lev_adapt(\"Nicole\", \"Nikole\", cost))"
   ]
  },
  {
   "cell_type": "code",
   "execution_count": 44,
   "metadata": {
    "colab": {},
    "colab_type": "code",
    "id": "LMXoQjVM1GLc"
   },
   "outputs": [
    {
     "name": "stdout",
     "output_type": "stream",
     "text": [
      "0\t1\t2\t3\t4\t5\t6\n",
      "1\t0\t1\t2\t3\t4\t5\n",
      "2\t1\t0\t1\t2\t3\t4\n",
      "3\t2\t1\t1\t2\t3\t4\n",
      "4\t3\t2\t2\t1\t2\t3\n",
      "5\t4\t3\t3\t2\t1\t2\n",
      "6\t5\t4\t4\t3\t2\t1\n",
      "lev(\"Nicole\", \"Nikole\") = 1\n"
     ]
    }
   ],
   "source": [
    "print(\"lev(\\\"Nicole\\\", \\\"Nikole\\\") =\", lev(\"Nicole\", \"Nikole\"))"
   ]
  },
  {
   "cell_type": "markdown",
   "metadata": {
    "colab_type": "text",
    "id": "FYL8rCL5_8VN"
   },
   "source": [
    "## Aufgabe 2 -  [Trie](https://en.wikipedia.org/wiki/Trie) und  [Radix-tree](https://en.wikipedia.org/wiki/Radix_tree)\n",
    "1. Erstellen Sie einen einen Trie- und einen Radix-Tree für die Namen Michael, Michel, Michele, Michal, Michaela, Michela, Mikael, and Mikhail.\n",
    "2. Stellen Sie sich eine Methode `eq` vor, welche zwei Zeichenketten zeichenweise vergleicht, und bei dem ersten nicht-übereinstimmenden Zeichenpaar `false` zurückgibt. Wie viele Zeichenvergleiche würde `eq` benötigen um festzustellen, dass Michiel nicht in der obigen Liste auftaucht? Wie viele Vergleiche würde der Trie- bzw. der Radix-Tree dafür benötigen? Bitte nehmen Sie vereinfachend an, dass nur **ein Vergleich für jede Entscheidung** benötigt wird.\n",
    "\n"
   ]
  },
  {
   "cell_type": "code",
   "execution_count": 58,
   "metadata": {},
   "outputs": [],
   "source": [
    "names = set([\"Michael\", \"Michel\", \"Michele\", \"Michal\", \"Michaela\", \"Michela\", \"Mikael\", \"Mikhail\"])\n",
    "def eq(string1, string2):\n",
    "    for i in range(min(len(string1),len(string2))):\n",
    "        if string1[i]!=string2[i]: \n",
    "            return i\n",
    "    if(len(string1) == len(string2)):\n",
    "        return True;\n",
    "    else:\n",
    "        return False;"
   ]
  },
  {
   "cell_type": "code",
   "execution_count": 61,
   "metadata": {},
   "outputs": [
    {
     "name": "stdout",
     "output_type": "stream",
     "text": [
      "False\n",
      "False\n",
      "False\n",
      "False\n",
      "False\n",
      "False\n",
      "False\n"
     ]
    }
   ],
   "source": [
    "string1 = \"Michiel\"\n",
    "while names:\n",
    "    print(eq(string1, names.pop()))"
   ]
  },
  {
   "cell_type": "markdown",
   "metadata": {
    "colab_type": "text",
    "id": "7YbdhBRCCX-m"
   },
   "source": [
    "## Aufgabe 3- Schnelle unscharfe Suche\n",
    "1. Der Dice Koeffizient vergleicht die Anzahl gemeinsamer Trigramme zweier Zeichenketten. Michael hat beispielsweise die Trigramme Mic, ich, cha, hae und ael. Sei *t(a)* die Menge der Trigramme der Zeichenkette *a*. Dann ist\n",
    "\\begin{equation*}\n",
    "    \\mathrm{dice}(a, b) = \\frac{2 \\cdot \\vert t(a) \\cap t(b) \\vert}{\\vert t(a) \\vert + \\vert t(b) \\vert}\n",
    "\\end{equation*}\n",
    "der Dice Koeffizient der Zeichenketten $a$ und $b$. Berechnen Sie schriftlich die Dice Koffenzienten der Paare Michael/Michel, Michael/Michele und Michael/Petra. Wie verhält sich der Dice Koeffizient in Vergleich zur Levensthein Distanz?\n",
    "2. Vervollständigen Sie den Code zur Berechnung des Dice Koeffizients"
   ]
  },
  {
   "cell_type": "code",
   "execution_count": 32,
   "metadata": {
    "colab": {},
    "colab_type": "code",
    "id": "kSg1J-952Urc"
   },
   "outputs": [],
   "source": [
    "def dice(a,b):\n",
    "  t_a = set([a[i:i+3] for i in range(len(a)-2)])\n",
    "  t_b = set([b[i:i+3] for i in range(len(b)-2)])\n",
    "  dice_ab =  2 * len(t_a & t_b) / (len(t_a) + len(t_b))\n",
    "  return dice_ab"
   ]
  },
  {
   "cell_type": "code",
   "execution_count": 34,
   "metadata": {
    "colab": {},
    "colab_type": "code",
    "id": "CQ0KLEYn2k5K"
   },
   "outputs": [
    {
     "name": "stdout",
     "output_type": "stream",
     "text": [
      "dice(\"Michael\", \"Michel\") = 0.4444444444444444\n",
      "dice(\"Michael\", \"Michele\") = 0.4\n",
      "dice(\"Michael\", \"Petra\") = 0.0\n"
     ]
    }
   ],
   "source": [
    "print(\"dice(\\\"Michael\\\", \\\"Michel\\\") =\", dice(\"Michael\", \"Michel\"))\n",
    "print(\"dice(\\\"Michael\\\", \\\"Michele\\\") =\", dice(\"Michael\", \"Michele\"))\n",
    "print(\"dice(\\\"Michael\\\", \\\"Petra\\\") =\", dice(\"Michael\", \"Petra\"))"
   ]
  }
 ],
 "metadata": {
  "colab": {
   "collapsed_sections": [],
   "name": "lexica_4.ipynb",
   "private_outputs": true,
   "provenance": []
  },
  "kernelspec": {
   "display_name": "Python 3",
   "language": "python",
   "name": "python3"
  },
  "language_info": {
   "codemirror_mode": {
    "name": "ipython",
    "version": 3
   },
   "file_extension": ".py",
   "mimetype": "text/x-python",
   "name": "python",
   "nbconvert_exporter": "python",
   "pygments_lexer": "ipython3",
   "version": "3.6.4"
  }
 },
 "nbformat": 4,
 "nbformat_minor": 1
}
