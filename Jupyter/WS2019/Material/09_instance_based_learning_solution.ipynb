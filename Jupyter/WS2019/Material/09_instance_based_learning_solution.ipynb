{
 "cells": [
  {
   "cell_type": "markdown",
   "metadata": {
    "colab_type": "text",
    "id": "b5Q7kqLKDo7Z"
   },
   "source": [
    "Version: 2019.12.18\n",
    "\n",
    "---\n",
    "\n"
   ]
  },
  {
   "cell_type": "markdown",
   "metadata": {
    "colab_type": "text",
    "id": "4JBoAxnxaGAQ"
   },
   "source": [
    "# Intelligent Systems - Exercise, Instance Based Learning"
   ]
  },
  {
   "cell_type": "markdown",
   "metadata": {
    "colab_type": "text",
    "id": "mBUVP2u3aGAU"
   },
   "source": [
    "# Aufgabe 1 -  k-Nächster-Nachbar-Klassifikator (kNN-Klassifikator)\n",
    "Ihre Bank hat bisher Kredite and Personen verschiedenen Alters vergeben.\n",
    "\n",
    "Der Datensatz enthält [Alter, Kredithöhe, Probleme]."
   ]
  },
  {
   "cell_type": "code",
   "execution_count": 1,
   "metadata": {
    "colab": {},
    "colab_type": "code",
    "id": "CZqUjG22aGAY"
   },
   "outputs": [],
   "source": [
    "bank_data = [\n",
    "[25, 40000, 'N'],\n",
    "[35, 60000, 'N'],\n",
    "[45, 80000, 'N'],\n",
    "[20, 20000, 'N'],\n",
    "[35, 120000, 'N'],\n",
    "[52, 18000, 'N'],\n",
    "[23, 95000, 'Y'],\n",
    "[40, 62000, 'Y'],\n",
    "[60, 100000, 'Y'],\n",
    "[48, 220000, 'Y'],\n",
    "[33, 150000, 'Y']\n",
    "]"
   ]
  },
  {
   "cell_type": "markdown",
   "metadata": {
    "colab_type": "text",
    "id": "v7-8jGBgaGAe"
   },
   "source": [
    "**(1)** Entscheiden Sie mit einem 3NN-Klassifikator, ob Probleme mit einem 48-jährigen Kunden zu erwarten sind, der einen Kredit in Höhe von 142000 (Worldcoins) haben möchte.\n",
    "\n",
    "Überlegen Sie sich die Lösung zunächst intuitiv / geometrisch und schreiben Sie dann ein Programm, um allgemeine Anfragebeispiele zu beantworten.\n",
    "\n",
    "**(2)** Machen Sie das gleiche mit normalisierten Daten und diskutieren Sie die Ergebnisse."
   ]
  },
  {
   "cell_type": "markdown",
   "metadata": {
    "colab_type": "text",
    "id": "HLGOe4VX3PXn"
   },
   "source": [
    "## Lösung - Aufgabe 1\n"
   ]
  },
  {
   "cell_type": "markdown",
   "metadata": {
    "colab_type": "text",
    "id": "zJfZ8RDu49MS"
   },
   "source": [
    "**Lösung (1)** \n",
    "\n",
    "Die Distanz eines Datenpunktes $x$ mit Attributen $\\{x_i\\}_i$ zu einem Datenpunkt $y$ mit Attributen $\\{y_i\\}_i$ wird berechnet über\n",
    "\n",
    "$$d = \\sum_{i=1}^{\\nu} (x_i - y_i)^2$$\n",
    "\n",
    "Da das zweite Attribut in einer höheren Größenordnung liegt als das erste, können wir für die Bestimmung der Distanzen das erste Attribut vernachlässigen und die drei Datenpunkte bestimmen, die am nächsten an dem \"query-loan\" von $142000$ liegen. Dies wären \n",
    "\n",
    "    (35, 120000, 'N')\n",
    "    (60, 100000, 'Y')\n",
    "    (33, 150000, 'Y')\n",
    "\n",
    "Die Majorität dieser drei Punkte ist das 'Y'-Label, was dementsprechend für unnormalisierte Daten vorhergesagt werden würde. "
   ]
  },
  {
   "cell_type": "code",
   "execution_count": 7,
   "metadata": {
    "colab": {},
    "colab_type": "code",
    "id": "buqex41U6RAx"
   },
   "outputs": [
    {
     "name": "stdout",
     "output_type": "stream",
     "text": [
      "Prediction for unnormalized data.\n",
      "Predicted Y for query (48, 142000).\n"
     ]
    }
   ],
   "source": [
    "# code for unnormalized data\n",
    "\n",
    "import numpy as np\n",
    "\n",
    "ages = np.array([data[0] for data in bank_data])\n",
    "loans = np.array([data[1] for data in bank_data])\n",
    "labels = np.array([data[2] for data in bank_data])\n",
    "\n",
    "query_age = 48\n",
    "query_loan = 142000\n",
    "\n",
    "# distances squared\n",
    "distances2 = (ages - query_age)**2 + (loans - query_loan)**2\n",
    "\n",
    "min_indices = np.argsort(distances2)[:3]\n",
    "\n",
    "nearest_class_labels = [bank_data[index][2] for index in min_indices]\n",
    "\n",
    "print(\"Prediction for unnormalized data.\")\n",
    "if nearest_class_labels.count('Y') >1:\n",
    "  print(\"Predicted Y for query \" + f\"({query_age}, {query_loan}).\" )\n",
    "else:\n",
    "  print(\"Predicted N for query \" + f\"({query_age}, {query_loan}).\" )\n"
   ]
  },
  {
   "cell_type": "markdown",
   "metadata": {
    "colab_type": "text",
    "id": "8zsc0gvoDy1I"
   },
   "source": [
    "**Lösung (2)**\n",
    "\n",
    "Die Normalisierung für ein Attribut $x$ erfolgt mit der Formel\n",
    "\n",
    "$$x_{i, norm} = \\frac{x_i - x_{min}}{x_{max} - x_{min}}.$$\n",
    "\n",
    "Es ist \n",
    "$$\\text{age}_{min} = 20, \\; \\text{age}_{max} = 60$$\n",
    "und \n",
    "$$\\text{loan}_{min} = 20.000, \\; \\text{loan}_{max} = 220.000$$.\n",
    "\n",
    "\n",
    "\n",
    "\n",
    "\n",
    "Die normalisierten Daten sind gegeben durch (Darlehen gerundet): \n",
    "\n",
    "\n"
   ]
  },
  {
   "cell_type": "code",
   "execution_count": 4,
   "metadata": {
    "colab": {},
    "colab_type": "code",
    "id": "FTdGYwlt36QA"
   },
   "outputs": [],
   "source": [
    "bank_data_norm = [\n",
    "[0.125, 0.109, 'N'],\n",
    "[0.375, 0.208, 'N'],\n",
    "[0.625, 0.307, 'N'],\n",
    "[0.0, 0.010, 'N'],\n",
    "[0.375, 0.505, 'N'],\n",
    "[0.8, 0.000, 'N'],\n",
    "[0.075, 0.381, 'Y'],\n",
    "[0.5, 0.218, 'Y'],\n",
    "[1.0, 0.406, 'Y'],\n",
    "[0.7, 1.0, 'Y'],\n",
    "[0.325, 0.653, 'Y']\n",
    "]"
   ]
  },
  {
   "cell_type": "markdown",
   "metadata": {
    "colab_type": "text",
    "id": "eUyegCmREgWf"
   },
   "source": [
    "Der normalisierte Query ist:\n",
    "\n",
    "$$(48, 142.000) \\rightarrow^{norm} (0.7, 0.61)$$\n",
    "\n",
    "Man kann nun entweder alle Distanzen ausrechnen oder wir plotten einfach. Wir tun hier letzteres."
   ]
  },
  {
   "cell_type": "code",
   "execution_count": 8,
   "metadata": {
    "colab": {},
    "colab_type": "code",
    "id": "WPM2eZvYFPIj"
   },
   "outputs": [
    {
     "data": {
      "image/png": "[encoded data removed]",
      "text/plain": [
       "<Figure size 576x576 with 1 Axes>"
      ]
     },
     "metadata": {
      "needs_background": "light"
     },
     "output_type": "display_data"
    }
   ],
   "source": [
    "import matplotlib.pyplot as plt\n",
    "\n",
    "marker = {'Y': \"o\", 'N': \"x\"}\n",
    "ages_norm = [data[0] for data in bank_data_norm]\n",
    "loans_norm = [data[1] for data in bank_data_norm]\n",
    "markers = [marker[data[2]] for data in bank_data_norm]\n",
    "\n",
    "query_age_norm = (48 - np.min(ages))/(np.max(ages) - np.min(ages))\n",
    "query_loan_norm = (142000 - np.min(loans))/(np.max(loans) - np.min(loans))\n",
    "\n",
    "plt.figure(figsize=(8, 8))\n",
    "plt.xlim(-0.1, 1.1)\n",
    "plt.ylim(-0.1, 1.1)\n",
    "\n",
    "plt.scatter(query_age_norm, query_loan_norm, marker=\"^\", color=\"blue\")\n",
    "\n",
    "for i in range(len(ages_norm)):\n",
    "  plt.scatter(ages_norm[i], loans_norm[i], marker=markers[i], color='black')\n",
    "\n",
    "plt.show()"
   ]
  },
  {
   "cell_type": "markdown",
   "metadata": {
    "colab_type": "text",
    "id": "GRYfTxOaGwrt"
   },
   "source": [
    "Offenbar ist es hier nicht so einfach, zu entscheiden, welche Punkte am nächsten sind. "
   ]
  },
  {
   "cell_type": "code",
   "execution_count": 9,
   "metadata": {
    "colab": {},
    "colab_type": "code",
    "id": "HRY905tZHMfi"
   },
   "outputs": [
    {
     "name": "stdout",
     "output_type": "stream",
     "text": [
      "Prediction for normalized data.\n",
      "Predicted N for query (48, 142000).\n"
     ]
    },
    {
     "data": {
      "image/png": "[encoded data removed]",
      "text/plain": [
       "<Figure size 576x576 with 1 Axes>"
      ]
     },
     "metadata": {
      "needs_background": "light"
     },
     "output_type": "display_data"
    }
   ],
   "source": [
    "# nächsten drei Datenpunkte sind grün, der Query-Datenpunkt ist blau\n",
    "\n",
    "dists_norm2 = (ages_norm - query_age_norm)**2 + (loans_norm - query_loan_norm)**2\n",
    "\n",
    "min_indices = np.argsort(dists_norm2)[:3]\n",
    "\n",
    "nearest_class_labels = [bank_data_norm[index][2] for index in min_indices]\n",
    "\n",
    "print(\"Prediction for normalized data.\")\n",
    "if nearest_class_labels.count('Y') >1:\n",
    "  print(\"Predicted Y for query \" + f\"({query_age}, {query_loan}).\" )\n",
    "else:\n",
    "  print(\"Predicted N for query \" + f\"({query_age}, {query_loan}).\" )\n",
    "\n",
    "plt.figure(figsize=(8, 8))\n",
    "plt.xlim(-0.1, 1.1)\n",
    "plt.ylim(-0.1, 1.1)\n",
    "\n",
    "plt.scatter(query_age_norm, query_loan_norm, marker=\"^\", color=\"blue\")\n",
    "\n",
    "for i in range(len(ages_norm)):\n",
    "  if i in min_indices:\n",
    "    plt.scatter(ages_norm[i], loans_norm[i], marker=markers[i], color='green')\n",
    "  else:\n",
    "    plt.scatter(ages_norm[i], loans_norm[i], marker=markers[i], color='black')\n",
    "\n",
    "plt.show()"
   ]
  },
  {
   "cell_type": "markdown",
   "metadata": {
    "colab_type": "text",
    "id": "T5iuW6U6aGAg"
   },
   "source": [
    "# Aufgabe 2 - k-means-clustering\n",
    "\n",
    "\n",
    "Gegeben ist ein Datensatz mit sechs Datenpunkten und vier verschiedenen Initialisierungen für ein \"2-means clustering\". \n",
    "Welche Endkonfiguration ergibt sich bei den verschiedenen Initialisierungen für die Lage der Clusterzentren und für die Zugehörigkeit der Datenpunkte zu den Clustern?\n",
    "\n",
    "Die Koordinaten der Beispieldaten sind gegeben durch: \n",
    "\n",
    "$$Examples = \\{(0.0, 0.0), (0.0, 1.0), (0.0, 2.0), (2.0, 0.0), (2.0, 1.0), (2.0, 2.0)\\}$$\n",
    "\n",
    "\n",
    "Die erste Konfiguration der Cluster ist gegeben durch: \n",
    "$${(x_i, y_i)}_i = \\{(1.1, 0.5), (2.1, 2.0)\\} $$\n",
    "<img src=\"https://docs.google.com/uc?id=19SLR30rN0T0eDeCXAQJC3iWhw3QYLOFw\" width=400>\n",
    "\n",
    "Die zweite Konfiguration der Cluster ist gegeben durch: \n",
    "$${(x_i, y_i)}_i = \\{(1.0, 1.0), (1.9, 2.0)\\} $$\n",
    "<img src=\"https://docs.google.com/uc?id=1jtrHSTAFv0J1HfKNVPncsJNKxxJWCy1e\" width=400>\n",
    "\n",
    "Die dritte Konfiguration der Cluster ist gegeben durch: \n",
    "$${(x_i, y_i)}_i = \\{(0.1, 2.0), (2.1, 2.0)\\} $$\n",
    "<img src=\"https://docs.google.com/uc?id=1XvWChupwixj-FkLPyR2G-ACJltvlTjdK\" width=400>\n",
    "\n",
    "Die vierte Konfiguration der Cluster ist gegeben durch: \n",
    "$${(x_i, y_i)}_i = \\{(2.1, 1.0), (2.1, 2.0)\\} $$\n",
    "<img src=\"https://docs.google.com/uc?id=136-hRU2XiJm2a_2ANzvCYVz1iIU63uf4\" width=400>"
   ]
  },
  {
   "cell_type": "markdown",
   "metadata": {
    "colab_type": "text",
    "id": "DPO1i_qOICHr"
   },
   "source": [
    "## Lösung - Aufgabe 2\n",
    "Erste End-Konfiguration: \n",
    "  - Zentren bei $(0.0, 1.0)$ und $(2.0, 1.0)$\n",
    "  - Datenpunkte mit $x=0$ gehören zu Zentrum $(0.0, 1.0)$\n",
    "  - Datenpunkte mit $x=2$ gehören zu Zentrum $(2.0, 1.0)$\n",
    "\n",
    "Zweite End-Konfiguration:\n",
    "  - gleich zur ersten End-Konfiguration\n",
    "\n",
    "Dritte End-Konfiguration: \n",
    "  - gleich zur ersten End-Konfiguration\n",
    "\n",
    "Vierte End-Konfiguration:\n",
    "  - Zentren bei $(1.0, 0.5)$ und $(1.0, 2.0)$\n",
    "  - Datenpunkte $\\{(0.0, 0.0), (0.0, 1.0), (2.0, 0.0), (2.0, 1.0)\\}$ gehören zu Zentrum $(1.0, 0.5)$\n",
    "  - Datenpunkte $\\{(0.0, 2.0), (2.0, 2.0)\\}$ gehören zu Zentrum $(1.0, 0.5)$"
   ]
  },
  {
   "cell_type": "markdown",
   "metadata": {
    "colab_type": "text",
    "id": "2zRJz_ZpaGAh"
   },
   "source": [
    "# Aufgabe 3 k-means clustering\n",
    "\n",
    "\n",
    "Gegeben sind 3 zweidimensionale Gaußverteilungen:"
   ]
  },
  {
   "cell_type": "code",
   "execution_count": null,
   "metadata": {
    "colab": {},
    "colab_type": "code",
    "id": "RLvHlqgSaGAj"
   },
   "outputs": [],
   "source": [
    "import numpy as np\n",
    "\n",
    "N = 100\n",
    "varX = 0.5\n",
    "varY = 0.5\n",
    "covar = 0\n",
    "cov = np.array([[varX, covar],\n",
    "                [covar, varY]])\n",
    "mean = np.array([0, 0])\n",
    "clusters = [np.random.multivariate_normal(np.array([-2, 2]), cov, N)]\n",
    "clusters += [np.random.multivariate_normal(np.array([2, 2]), cov, N)]\n",
    "clusters += [np.random.multivariate_normal(np.array([0, -2]), cov, N)]\n",
    "examples = np.concatenate((clusters[0], clusters[1], clusters[2])) "
   ]
  },
  {
   "cell_type": "markdown",
   "metadata": {
    "colab_type": "text",
    "id": "d9LhZI3FaGAm"
   },
   "source": [
    "Nutzen Sie bspw. das folgende Programmgerüst, indem sie die Lücken füllen, die in den folgenden beiden Funktionen sind: \n",
    "- assign()\n",
    "- recalculate()\n",
    "\n",
    "Bearbeiten Sie ferner folgende Aufgaben: \n",
    "\n",
    "**(1)** Testen Sie verschiedene Initialisierung für die Clusterzentren.\n",
    "\n",
    "**(2)** Was passiert, wenn k ungleich 3 gewählt wird?\n",
    "\n",
    "Für eine Animation ihrer Ergebnisse gehen Sie zu [Animation](https://drive.google.com/open?id=1NUwj8TJprt2hpiLOsM4Uslm66bY_nIG_). Sie müssen die Lücken dann nochmals ausfüllen."
   ]
  },
  {
   "cell_type": "code",
   "execution_count": null,
   "metadata": {
    "colab": {},
    "colab_type": "code",
    "id": "98QPlA48aGAn"
   },
   "outputs": [],
   "source": [
    "import numpy as np\n",
    "import matplotlib.pyplot as plt\n",
    "%matplotlib inline\n",
    "\n",
    "def plot(clusters, centers, ax):\n",
    "    colors = [\"black\", \"gray\", \"red\", \"blue\", \"brown\"]\n",
    "    markers = [\"^\", \"X\", \"o\", \"v\", \"s\"]\n",
    "    for i in range(len(clusters)):\n",
    "        if len(clusters[i]) > 0:\n",
    "            ax.scatter(clusters[i][:, 0], clusters[i][:, 1],\n",
    "                       marker=markers[i], color=colors[i])\n",
    "        ax.scatter(centers[i, 0], centers[i, 1],\n",
    "                   s=200, marker=markers[i], color=colors[i])\n",
    "\n",
    "def assign(examples, centers):\n",
    "    # clusters[i] shall contain all examples, which are assigned to center i\n",
    "    clusters = [np.empty((0, 2)) for _ in centers]\n",
    "    for ex in examples:\n",
    "        # distances of example ex to cluster centers\n",
    "        dists = []\n",
    "        for c in centers:\n",
    "            dists += [np.sqrt(np.sum((ex-c)**2))]\n",
    "        closest = np.argmin(dists)\n",
    "        clusters[closest] = np.concatenate((clusters[closest], np.reshape(ex, (1, 2))))\n",
    "    return clusters\n",
    "\n",
    "\n",
    "def recalculate(clusters, centers):\n",
    "  # calculate new cluster centers\n",
    "  for i in range(len(clusters)):\n",
    "      centers[i, :] = np.sum(clusters[i], 0) / clusters[i].shape[0]\n",
    "\n",
    "\n",
    "#np.random.seed(123947)\n",
    "k = 3\n",
    "N = 100\n",
    "varX = 0.5\n",
    "varY = 0.5\n",
    "covar = 0\n",
    "cov = np.array([[varX, covar],\n",
    "                [covar, varY]])\n",
    "mean = np.array([0, 0])\n",
    "clusters = [np.random.multivariate_normal(np.array([-2, 2]), cov, N)]\n",
    "clusters += [np.random.multivariate_normal(np.array([2, 2]), cov, N)]\n",
    "clusters += [np.random.multivariate_normal(np.array([0, -2]), cov, N)]\n",
    "examples = np.concatenate((clusters[0], clusters[1], clusters[2]))\n",
    "\n",
    "centers = np.random.rand(k, 2)\n",
    "\n",
    "def one_step():\n",
    "    global clusters, centers\n",
    "    clusters = assign(examples, centers)\n",
    "    recalculate(clusters, centers)\n",
    "    print(\"Centers\")\n",
    "    print(100*\"-\")\n",
    "    for i in range(k):\n",
    "      print(f\"Center {i}: \", centers[i, :])\n",
    "\n",
    "fig = plt.figure(figsize=(8, 8))\n",
    "plt.scatter(examples[:, 0], examples[:, 1], marker=\"o\")\n",
    "plt.show()\n",
    "\n",
    "# do 'iterations' iterations\n",
    "iterations = 10\n",
    "for i in range(iterations):\n",
    "  print(100*\"=\")\n",
    "  print(f\"Iteration {i}\")\n",
    "  one_step()\n",
    "\n",
    "print(100*\"=\")\n",
    "print(\"True Centers: [(-2, 2), (2, 2), (0, -2)]\")"
   ]
  },
  {
   "cell_type": "code",
   "execution_count": null,
   "metadata": {
    "colab": {},
    "colab_type": "code",
    "id": "NA63-6RMDTXe"
   },
   "outputs": [],
   "source": []
  }
 ],
 "metadata": {
  "colab": {
   "collapsed_sections": [],
   "name": "09_instance_based_learning_solution.ipynb",
   "private_outputs": true,
   "provenance": []
  },
  "kernelspec": {
   "display_name": "Python 3",
   "language": "python",
   "name": "python3"
  },
  "language_info": {
   "codemirror_mode": {
    "name": "ipython",
    "version": 3
   },
   "file_extension": ".py",
   "mimetype": "text/x-python",
   "name": "python",
   "nbconvert_exporter": "python",
   "pygments_lexer": "ipython3",
   "version": "3.7.4"
  }
 },
 "nbformat": 4,
 "nbformat_minor": 4
}
