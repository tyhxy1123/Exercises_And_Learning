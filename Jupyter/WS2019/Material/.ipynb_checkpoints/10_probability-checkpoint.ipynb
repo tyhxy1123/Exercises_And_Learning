{
  "nbformat": 4,
  "nbformat_minor": 0,
  "metadata": {
    "kernelspec": {
      "name": "python3",
      "display_name": "Python 3"
    },
    "language_info": {
      "codemirror_mode": {
        "name": "ipython",
        "version": 3
      },
      "file_extension": ".py",
      "mimetype": "text/x-python",
      "name": "python",
      "nbconvert_exporter": "python",
      "pygments_lexer": "ipython3",
      "version": "3.7.5"
    },
    "colab": {
      "name": "10_probability.ipynb",
      "provenance": [],
      "private_outputs": true,
      "collapsed_sections": [],
      "toc_visible": true
    }
  },
  "cells": [
    {
      "cell_type": "markdown",
      "metadata": {
        "id": "oYzZiKqDHNay",
        "colab_type": "text"
      },
      "source": [
        "Version 2020.01\n",
        "\n",
        "----\n"
      ]
    },
    {
      "cell_type": "markdown",
      "metadata": {
        "id": "p5HMHh3J-vtO",
        "colab_type": "text"
      },
      "source": [
        "# Intelligente Systeme - Wahrscheinlichkeiten und das Naive-Bayes-Modell"
      ]
    },
    {
      "cell_type": "markdown",
      "metadata": {
        "id": "So6DT5Nk_HyO",
        "colab_type": "text"
      },
      "source": [
        "## 1. Geburtstag\n",
        "\n",
        "In einem Raum sind $N$ Personen. Wie groß ist die Wahrscheinlichkeit, dass in dem Raum heute niemand Geburtstag hat und (${\"}\\land{\"}$) morgen mindestens eine dieser Personen? \n",
        "\n",
        "Schaltjahre bleiben unberücksichtigt. Die Wahrscheinlichkeiten für einen Geburtstag seien für alle Tage konstant. \n",
        "\n",
        "(aus Intelligente Systeme Wiederholungsprüfung 2018)"
      ]
    },
    {
      "cell_type": "markdown",
      "metadata": {
        "id": "Mbi6HdZZ_NoO",
        "colab_type": "text"
      },
      "source": [
        "## 2. Geburtstage\n",
        "\n",
        "Wieviel Personen müssen in einem Raum sein, so dass die Wahrscheinlichkeit, dass (mind.) zwei Personen am gleichen Tag (nicht unbedingt heute) Geburtstag haben\n",
        "\n",
        "\ta) mindestens 0,5 ist?\n",
        "\n",
        "\tb) mindestens 99% beträgt?\n",
        "\n",
        "Schaltjahre bleiben unberücksichtigt. Die Wahrscheinlichkeiten für einen Geburtstag seien für alle Tage konstant."
      ]
    },
    {
      "cell_type": "markdown",
      "metadata": {
        "id": "aLPp2RM6_U3o",
        "colab_type": "text"
      },
      "source": [
        "\n",
        "## 3. Würfeln\n",
        "\n",
        "Es wird mit zwei \"ehrlichen\" Würfeln gewürfelt. Wenn die beiden gewürfelten Zahlen verschieden sind - wie ist die Wahrscheinlichkeit, dass\n",
        "\n",
        "\ta) ihre Summe 6 ist,\n",
        "\n",
        "\tb) genau eine \"1\" erscheint,\n",
        "\n",
        "\tc) die Summe 4 oder kleiner ist."
      ]
    },
    {
      "cell_type": "markdown",
      "metadata": {
        "id": "vCjHwuvH_YW8",
        "colab_type": "text"
      },
      "source": [
        "\n",
        "## 4. Kinder\n",
        "\n",
        "Mädchen und Jungen werden zufällig zu mit einer Wahrscheinlichkeit von 50% geboren. \n",
        "Wie groß ist die Wahrscheinlichkeit, dass sich Mädchen und Jungen abwechseln, wenn\n",
        "\n",
        "\ta) man 4 Mädchen und 3 Jungen bzw.,\n",
        "\n",
        "\tb) man 3 Mädchen und 3 Jungen hat."
      ]
    },
    {
      "cell_type": "markdown",
      "metadata": {
        "id": "SJOdOktn_aik",
        "colab_type": "text"
      },
      "source": [
        "## 5. Mensa\n",
        "\n",
        "Die Wahrscheinlichkeit, dass A das Mensaessen schmeckt ist 0.25 und die Wahrscheinlichkeit, dass B das Mensaessen schmeckt ist 0.4. \n",
        "Wie groß ist die Wahrscheinlichkeit, dass wenigsten einem das Mensaessen schmeckt, wenn A und B je einmal essen gehen?\n"
      ]
    },
    {
      "cell_type": "markdown",
      "metadata": {
        "id": "IGRHBAwc_cdT",
        "colab_type": "text"
      },
      "source": [
        "\n",
        "## 6. Drei Münzwürfe\n",
        "\n",
        "Eine Münze wird dreimal geworfen. \n",
        "$X$ sei 0, wenn \"Kopf\" erscheint, sonst 1 und $Y$ sei die Anzahl der geworfenen \"Köpfe\". Bestimmen Sie \n",
        "\n",
        "\ta) die Verteilungen von X und Y,\n",
        "\n",
        "\tb) die Paarverteilung (\"joint\") von X und Y,\n",
        "\n",
        "\tc) ob X und Y unabhängig sind."
      ]
    },
    {
      "cell_type": "markdown",
      "metadata": {
        "id": "5LbVPuYF_fCB",
        "colab_type": "text"
      },
      "source": [
        "## 7. Autos klassifizieren – Naive Bayes\n",
        "\n",
        "Gegeben ist ein Datensatz mit Informationen einer Fahrzeugversicherung. Sie sollen daraus vorhersagen, ob ein Fahrzeug wahrscheinlich gestolen wird oder nicht. Jedes Auto wird beschrieben mit seiner Farbe (red, yellow), seinem Typ (sports , SUV), und seiner Herkunft (domestic, imported).\n",
        "\n",
        "\n",
        "Id | Colour | Type | Origin | Stolen\n",
        "--- | --- | --- | --- | ---\n",
        "1 | red | sports | domestic | yes\n",
        "2 | red | sports | domestic | no \n",
        "3 | red | sports | domestic | yes\n",
        "4 | yellow | sports | domestic | no\n",
        "5 | yellow | sports | imported | yes\n",
        "6 | yellow | SUV | imported | no\n",
        "7 | yellow | SUV | imported | yes\n",
        "8 | yellow | SUV | domestic | no\n",
        "9 | red | SUV | imported | no\n",
        "10 | red | sports | imported | yes\n",
        "\n",
        "Wie würden Sie mit Hilfe des Naive Bayes Modells einen \"red domestic SUV\" klasssifizieren?\n"
      ]
    },
    {
      "cell_type": "markdown",
      "metadata": {
        "id": "zF6sBJ-C_hmH",
        "colab_type": "text"
      },
      "source": [
        "## 8. Naive Bayes mit numerischen Variablen, Abhängigkeit, Korrelation ###\n",
        "\n",
        "Eine Zufallsvariable $x_1$ ist gleichverteilt im Intervall $[0,1]$. Eine andere Zufallsvariable $x_2$ ergibt sich aus $x_2=2x_1+1$.\n",
        "\n",
        "a) Skizzieren Sie die Träger (engl: support) der Verteilungen $p(x_1)$, $p(x_2)$, der Paarverteilung $p(x_1, x_2)$ und der Verteilung, die sich aus der Idee des Naive Bayes Modells für diese Paarverteilung ergibt in ein $(x_1,x_2)$-Diagramm!\n",
        "\n",
        "Der Support einer Funktion $f: A \\mapsto \\mathbb{R}$ ist die abgeschlossene Hülle der Nichtnullstellenmenge von $f$, also formal\n",
        "\n",
        "$$supp(f) = \\overline{\\{x\\in A| f(x) \\neq 0\\}}$$.\n",
        "\n",
        "![Verteilungen](https://docs.google.com/uc?id=1F2QD08dvs4ELI4rQFti0kB4rJ2rMcJRL)\n",
        "\n",
        "b) Wie lautet der Normierungsfaktor für $p(x_2)$ und die letztgenannte (\"Naive Bayes\") Verteilung? Da alle Verteilungen konstant sind, handelt es sich hier um die \"Höhe\" der Verteilung über dem Träger.\n",
        "    \n",
        "c)* Geben Sie ein Beispiel für eine Verteilung abhängiger (d.h. nicht unabhängiger) Variablen, die unkorreliert sind.\n",
        "    \n",
        "d) Welchen Unterschied zur Verteilung im Naive Bayes Modell der Vorlesung bemerken Sie und warum ist dieser für die betrachtete Frage nicht von Bedeutung?\n",
        "    "
      ]
    },
    {
      "cell_type": "markdown",
      "metadata": {
        "id": "FSxaKdi4_mG_",
        "colab_type": "text"
      },
      "source": [
        "\n",
        "## 9. Normierung ###\n",
        "\n",
        "Markieren Sie alle Ausdrücke, die gleich 1 sind. Die Variablen A und B können **nicht** als unabhängig angenommen werden.\n",
        "\n",
        "\n",
        "$\\bigcirc \\hspace{5mm}\\sum_a p(A=a| B)$   \n",
        "\n",
        "$\\bigcirc \\hspace{5mm}\\sum_a\\sum_b p(A=a | B=b)$\n",
        "\n",
        "$\\bigcirc \\hspace{5mm}\\sum_b p(A | B=b)$   \n",
        "\n",
        "$\\bigcirc \\hspace{5mm}\\sum_a\\sum_b p(A=a) p( B=b)$ \n",
        "\n",
        "$\\bigcirc \\hspace{5mm}\\sum_a\\sum_b p(A=a, B=b)$   \n",
        "\n",
        "$\\bigcirc \\hspace{5mm}\\sum_a p(A=a) p( B=b)$ \n"
      ]
    }
  ]
}