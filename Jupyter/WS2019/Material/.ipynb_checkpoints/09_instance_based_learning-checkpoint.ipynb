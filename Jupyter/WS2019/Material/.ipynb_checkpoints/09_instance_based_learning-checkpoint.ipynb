{
 "cells": [
  {
   "cell_type": "markdown",
   "metadata": {
    "colab_type": "text",
    "id": "Ur7JfHF2DhdB"
   },
   "source": [
    "Version: 2019.12.18\n",
    "\n",
    "---\n",
    "\n"
   ]
  },
  {
   "cell_type": "markdown",
   "metadata": {
    "colab_type": "text",
    "id": "4JBoAxnxaGAQ"
   },
   "source": [
    "# Intelligent Systems - Exercise, Instance Based Learning"
   ]
  },
  {
   "cell_type": "markdown",
   "metadata": {
    "colab_type": "text",
    "id": "mBUVP2u3aGAU"
   },
   "source": [
    "# Aufgabe 1 -  k-Nächster-Nachbar-Klassifikator (kNN-Klassifikator)\n",
    "Ihre Bank hat bisher Kredite and Personen verschiedenen Alters vergeben.\n",
    "\n",
    "Der Datensatz enthält [Alter, Kredithöhe, Probleme]."
   ]
  },
  {
   "cell_type": "code",
   "execution_count": 77,
   "metadata": {
    "colab": {},
    "colab_type": "code",
    "id": "CZqUjG22aGAY"
   },
   "outputs": [],
   "source": [
    "bank_data = [\n",
    "[25, 40000, 'N'],\n",
    "[35, 60000, 'N'],\n",
    "[45, 80000, 'N'],\n",
    "[20, 20000, 'N'],\n",
    "[35, 120000, 'N'],\n",
    "[52, 18000, 'N'],\n",
    "[23, 95000, 'Y'],\n",
    "[40, 62000, 'Y'],\n",
    "[60, 100000, 'Y'],\n",
    "[48, 220000, 'Y'],\n",
    "[33, 150000, 'Y']\n",
    "]"
   ]
  },
  {
   "cell_type": "markdown",
   "metadata": {
    "colab_type": "text",
    "id": "v7-8jGBgaGAe"
   },
   "source": [
    "**(1)** Entscheiden Sie mit einem 3NN-Klassifikator, ob Probleme mit einem 48-jährigen Kunden zu erwarten sind, der einen Kredit in Höhe von 142000 (Worldcoins) haben möchte.\n",
    "\n",
    "Überlegen Sie sich die Lösung zunächst intuitiv / geometrisch und schreiben Sie dann ein Programm, um allgemeine Anfragebeispiele zu beantworten.\n",
    "\n",
    "**(2)** Machen Sie das gleiche mit normalisierten Daten und diskutieren Sie die Ergebnisse."
   ]
  },
  {
   "cell_type": "code",
   "execution_count": null,
   "metadata": {},
   "outputs": [],
   "source": []
  },
  {
   "cell_type": "code",
   "execution_count": 163,
   "metadata": {},
   "outputs": [
    {
     "name": "stdout",
     "output_type": "stream",
     "text": [
      "Y\n",
      "N\n"
     ]
    }
   ],
   "source": [
    "import numpy as np\n",
    "bank_data = [\n",
    "[25, 40000, 'N'],\n",
    "[35, 60000, 'N'],\n",
    "[45, 80000, 'N'],\n",
    "[20, 20000, 'N'],\n",
    "[35, 120000, 'N'],\n",
    "[52, 18000, 'N'],\n",
    "[23, 95000, 'Y'],\n",
    "[40, 62000, 'Y'],\n",
    "[60, 100000, 'Y'],\n",
    "[48, 220000, 'Y'],\n",
    "[33, 150000, 'Y']\n",
    "]\n",
    "\n",
    "sample = [48,142000]\n",
    "\n",
    "def normalisierung(x,li):\n",
    "    lt = li.copy()\n",
    "    lt.append(x)\n",
    "    mn = []\n",
    "    mx = []\n",
    "    for i in range(len(x)):\n",
    "        lt.sort(key=lambda x:x[i])\n",
    "        mn.append(lt[0][i])\n",
    "        mx.append(lt[-1][i])\n",
    "        x[i] = (x[i]-mn[i])/(mx[i]-mn[i])\n",
    "        for e in li:\n",
    "            e[i]=(e[i]-mn[i])/(mx[i]-mn[i])\n",
    "    return x,li\n",
    "\n",
    "def eulerDistance(x1, menge):\n",
    "    euler = list(map(lambda x:(x,(x1[0] - x[0])**2 + (x1[1] - x[1])**2), menge))\n",
    "    return euler\n",
    "\n",
    "def dreiNN(x, bank_data):\n",
    "    x, bank_data = normalisierung(x, bank_data)\n",
    "    distances = eulerDistance(x, bank_data)\n",
    "    distances.sort(key=lambda x:x[1])\n",
    "    distances = distances[:3]\n",
    "    li = list(map(lambda x:x[0][2],distances))\n",
    "    l1 = list(filter(lambda x:x=='N',li))\n",
    "    l2 = list(filter(lambda x:x=='Y',li))\n",
    "    if(len(l1)>len(l2)):\n",
    "        return l1[0]\n",
    "    else: return l2[0]\n",
    "\n",
    "def normalize(bank_data):\n",
    "    ages = np.array([data[0] for data in bank_data])\n",
    "    loans = np.array([data[1] for data in bank_data])\n",
    "    labels = np.array([data[2] for data in bank_data])\n",
    "    ages_norm = (ages-np.min(ages))/(np.max(ages)-np.min(ages))\n",
    "    loans_norm = (loans - np.min(loans))/(np.max(loans)-np.min(loans))\n",
    "    bank_data_norm = []\n",
    "    for i in range(len(ages_norm)):\n",
    "        bank_data_norm.append([ages_norm[i],loans_norm[i],labels[i]])\n",
    "    return bank_data_norm\n",
    "    \n",
    "def dreiNN1(x, bank_data):\n",
    "    ages = np.array([data[0] for data in bank_data])\n",
    "    loans = np.array([data[1] for data in bank_data])\n",
    "    labels = np.array([data[2] for data in bank_data])\n",
    "    query_age = 48\n",
    "    query_loan = 142000\n",
    "    distances = (query_age - ages)**2 + (query_loan - loans)**2\n",
    "    indices = np.argsort(distances)[:3]\n",
    "    nearest_labels = [bank_data[i][2] for i in indices]\n",
    "    if nearest_labels.count('Y')>1:\n",
    "        return 'Y'\n",
    "    else: return 'N'\n",
    "\n",
    "def dreiNN_Norm(x, bank_data):\n",
    "    bank_data_norm = normalize(bank_data)\n",
    "    ages = np.array([data[0] for data in bank_data])\n",
    "    loans = np.array([data[1] for data in bank_data])\n",
    "    ages_norm = np.array([data[0] for data in bank_data_norm])\n",
    "    loans_norm = np.array([data[1] for data in bank_data_norm])\n",
    "    labels = np.array([data[2] for data in bank_data_norm])\n",
    "    query_age = 48\n",
    "    query_loan = 142000\n",
    "    query_age_norm = (query_age - np.min(ages))/(np.max(ages) - np.min(ages))\n",
    "    query_loan_norm = (query_loan - np.min(loans))/(np.max(loans) - np.min(loans))\n",
    "    distances = (query_age_norm - ages_norm)**2 + (query_loan_norm - loans_norm)**2\n",
    "    indices = np.argsort(distances)[:3]\n",
    "    nearest_labels = [bank_data[i][2] for i in indices]\n",
    "    if nearest_labels.count('Y')>1:\n",
    "        return 'Y'\n",
    "    else: return 'N'\n",
    "\n",
    "print(dreiNN1(sample,bank_data))\n",
    "print(dreiNN_Norm(sample, bank_data))"
   ]
  },
  {
   "cell_type": "markdown",
   "metadata": {
    "colab_type": "text",
    "id": "T5iuW6U6aGAg"
   },
   "source": [
    "# Aufgabe 2 - k-means-clustering\n",
    "\n",
    "\n",
    "Gegeben ist ein Datensatz mit sechs Datenpunkten und vier verschiedenen Initialisierungen für ein \"2-means clustering\". \n",
    "Welche Endkonfiguration ergibt sich bei den verschiedenen Initialisierungen für die Lage der Clusterzentren und für die Zugehörigkeit der Datenpunkte zu den Clustern?\n",
    "\n",
    "Die Koordinaten der Beispieldaten sind gegeben durch: \n",
    "\n",
    "$$Examples = \\{(0.0, 0.0), (0.0, 1.0), (0.0, 2.0), (2.0, 0.0), (2.0, 1.0), (2.0, 2.0)\\}$$\n",
    "\n",
    "\n",
    "Die erste Konfiguration der Cluster ist gegeben durch: \n",
    "$${(x_i, y_i)}_i = \\{(1.1, 0.5), (2.1, 2.0)\\} $$\n",
    "<img src=\"https://docs.google.com/uc?id=19SLR30rN0T0eDeCXAQJC3iWhw3QYLOFw\" width=400>\n",
    "\n",
    "Die zweite Konfiguration der Cluster ist gegeben durch: \n",
    "$${(x_i, y_i)}_i = \\{(1.0, 1.0), (1.9, 2.0)\\} $$\n",
    "<img src=\"https://docs.google.com/uc?id=1jtrHSTAFv0J1HfKNVPncsJNKxxJWCy1e\" width=400>\n",
    "\n",
    "Die dritte Konfiguration der Cluster ist gegeben durch: \n",
    "$${(x_i, y_i)}_i = \\{(0.1, 2.0), (2.1, 2.0)\\} $$\n",
    "<img src=\"https://docs.google.com/uc?id=1XvWChupwixj-FkLPyR2G-ACJltvlTjdK\" width=400>\n",
    "\n",
    "Die vierte Konfiguration der Cluster ist gegeben durch: \n",
    "$${(x_i, y_i)}_i = \\{(2.1, 1.0), (2.1, 2.0)\\} $$\n",
    "<img src=\"https://docs.google.com/uc?id=136-hRU2XiJm2a_2ANzvCYVz1iIU63uf4\" width=400>"
   ]
  },
  {
   "cell_type": "markdown",
   "metadata": {
    "colab_type": "text",
    "id": "2zRJz_ZpaGAh"
   },
   "source": [
    "# Aufgabe 3 k-means clustering\n",
    "\n",
    "\n",
    "Gegeben sind 3 zweidimensionale Gaußverteilungen:"
   ]
  },
  {
   "cell_type": "code",
   "execution_count": null,
   "metadata": {
    "colab": {},
    "colab_type": "code",
    "id": "RLvHlqgSaGAj"
   },
   "outputs": [],
   "source": [
    "import numpy as np\n",
    "\n",
    "N = 100\n",
    "varX = 0.5\n",
    "varY = 0.5\n",
    "covar = 0\n",
    "cov = np.array([[varX, covar],\n",
    "                [covar, varY]])\n",
    "mean = np.array([0, 0])\n",
    "clusters = [np.random.multivariate_normal(np.array([-2, 2]), cov, N)]\n",
    "clusters += [np.random.multivariate_normal(np.array([2, 2]), cov, N)]\n",
    "clusters += [np.random.multivariate_normal(np.array([0, -2]), cov, N)]\n",
    "examples = np.concatenate((clusters[0], clusters[1], clusters[2])) "
   ]
  },
  {
   "cell_type": "markdown",
   "metadata": {
    "colab_type": "text",
    "id": "d9LhZI3FaGAm"
   },
   "source": [
    "Nutzen Sie bspw. das folgende Programmgerüst, indem sie die Lücken füllen, die in den folgenden beiden Funktionen sind: \n",
    "- assign()\n",
    "- recalculate()\n",
    "\n",
    "Bearbeiten Sie ferner folgende Aufgaben: \n",
    "\n",
    "**(1)** Testen Sie verschiedene Initialisierung für die Clusterzentren.\n",
    "\n",
    "**(2)** Was passiert, wenn k ungleich 3 gewählt wird?\n",
    "\n",
    "\n",
    "Für eine Animation ihrer Ergebnisse gehen Sie zu [Animation](https://colab.research.google.com/drive/1qClX9-AKHJMPHmlp3MsMYjwIsOX2FAjL). Sie müssen die Lücken dann nochmals ausfüllen."
   ]
  },
  {
   "cell_type": "code",
   "execution_count": null,
   "metadata": {
    "colab": {},
    "colab_type": "code",
    "id": "98QPlA48aGAn"
   },
   "outputs": [],
   "source": [
    "import numpy as np\n",
    "import matplotlib.pyplot as plt\n",
    "%matplotlib inline\n",
    "\n",
    "def plot(clusters, centers, ax):\n",
    "    colors = [\"black\", \"gray\", \"red\", \"blue\", \"brown\"]\n",
    "    markers = [\"^\", \"X\", \"o\", \"v\", \"s\"]\n",
    "    for i in range(len(clusters)):\n",
    "        if len(clusters[i]) > 0:\n",
    "            ax.scatter(clusters[i][:, 0], clusters[i][:, 1],\n",
    "                       marker=markers[i], color=colors[i])\n",
    "        ax.scatter(centers[i, 0], centers[i, 1],\n",
    "                   s=200, marker=markers[i], color=colors[i])\n",
    "\n",
    "def assign(examples, centers):\n",
    "    # clusters[i] shall contain all examples, which are assigned to center i\n",
    "    clusters = [np.empty((0, 2)) for _ in centers]\n",
    "    for ex in examples:\n",
    "        # distances of example ex to cluster centers\n",
    "        dists = []\n",
    "        for c in centers:\n",
    "            dists += ___\n",
    "        closest = ___\n",
    "        clusters[closest] = ___\n",
    "    return clusters\n",
    "\n",
    "\n",
    "def recalculate(clusters, centers):\n",
    "  # calculate new cluster centers\n",
    "  for i in range(len(clusters)):\n",
    "      centers[i, :] = ___\n",
    "\n",
    "\n",
    "#np.random.seed(123947)\n",
    "k = 3\n",
    "N = 100\n",
    "varX = 0.5\n",
    "varY = 0.5\n",
    "covar = 0\n",
    "cov = np.array([[varX, covar],\n",
    "                [covar, varY]])\n",
    "mean = np.array([0, 0])\n",
    "clusters = [np.random.multivariate_normal(np.array([-2, 2]), cov, N)]\n",
    "clusters += [np.random.multivariate_normal(np.array([2, 2]), cov, N)]\n",
    "clusters += [np.random.multivariate_normal(np.array([0, -2]), cov, N)]\n",
    "examples = np.concatenate((clusters[0], clusters[1], clusters[2]))\n",
    "\n",
    "centers = np.random.rand(k, 2)\n",
    "\n",
    "def one_step():\n",
    "    global clusters, centers\n",
    "    clusters = assign(examples, centers)\n",
    "    recalculate(clusters, centers)\n",
    "    print(\"Centers\")\n",
    "    print(100*\"-\")\n",
    "    for i in range(k):\n",
    "      print(f\"Center {i}: \", centers[i, :])\n",
    "\n",
    "fig = plt.figure(figsize=(8, 8))\n",
    "plt.scatter(examples[:, 0], examples[:, 1], marker=\"o\")\n",
    "plt.show()\n",
    "\n",
    "# do 'iterations' iterations\n",
    "iterations = 10\n",
    "for i in range(iterations):\n",
    "  print(100*\"=\")\n",
    "  print(f\"Iteration {i}\")\n",
    "  one_step()\n",
    "\n",
    "print(100*\"=\")\n",
    "print(\"True Centers: [(-2, 2), (2, 2), (0, -2)]\")"
   ]
  },
  {
   "cell_type": "code",
   "execution_count": null,
   "metadata": {
    "colab": {},
    "colab_type": "code",
    "id": "Zb4Q0wisTbaM"
   },
   "outputs": [],
   "source": []
  }
 ],
 "metadata": {
  "colab": {
   "collapsed_sections": [],
   "name": "09_instance_based_learning.ipynb",
   "private_outputs": true,
   "provenance": []
  },
  "kernelspec": {
   "display_name": "Python 3.7.4 64-bit ('anaconda3': conda)",
   "language": "python",
   "name": "python37464bitanaconda3condaf96d51cd6d8b4b8595994399ec864388"
  },
  "language_info": {
   "codemirror_mode": {
    "name": "ipython",
    "version": 3
   },
   "file_extension": ".py",
   "mimetype": "text/x-python",
   "name": "python",
   "nbconvert_exporter": "python",
   "pygments_lexer": "ipython3",
   "version": "3.7.4"
  }
 },
 "nbformat": 4,
 "nbformat_minor": 4
}
