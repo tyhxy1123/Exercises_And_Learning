{
  "nbformat": 4,
  "nbformat_minor": 0,
  "metadata": {
    "kernelspec": {
      "name": "python3",
      "display_name": "Python 3"
    },
    "language_info": {
      "codemirror_mode": {
        "name": "ipython",
        "version": 3
      },
      "file_extension": ".py",
      "mimetype": "text/x-python",
      "name": "python",
      "nbconvert_exporter": "python",
      "pygments_lexer": "ipython3",
      "version": "3.7.5"
    },
    "colab": {
      "name": "11_Image analysis_solution",
      "provenance": [],
      "private_outputs": true,
      "collapsed_sections": [],
      "toc_visible": true
    }
  },
  "cells": [
    {
      "cell_type": "markdown",
      "metadata": {
        "id": "xIIgLvIPHSon",
        "colab_type": "text"
      },
      "source": [
        "Version 2020.01.21\n",
        "\n",
        "----\n"
      ]
    },
    {
      "cell_type": "markdown",
      "metadata": {
        "id": "p5HMHh3J-vtO",
        "colab_type": "text"
      },
      "source": [
        "# Intelligente Systeme - Bio-image analysis"
      ]
    },
    {
      "cell_type": "markdown",
      "metadata": {
        "id": "So6DT5Nk_HyO",
        "colab_type": "text"
      },
      "source": [
        "## 1. Cell count challenge\n",
        "\n",
        "* Download Broad Bioimage Benchmark Collection from\n",
        "https://data.broadinstitute.org/bbbc/BBBC008/BBBC008_v1_images.zip\n",
        "\n",
        "* Write a script (in Python or ImageJ) which segments and counts the number of cells in the first image\n",
        "AS_09125_050116000001_A24f00d0_slice1_channel1.tif\n",
        "\n",
        "* Potential workflow:\n",
        " * Blur the image\n",
        " * Threshold it\n",
        " * Apply a watershed\n",
        " * Label the image\n",
        " * Find the maximum label ID\n",
        "\n",
        "* Be a brave scientists:\n",
        " * document your script with comments,\n",
        " * output the counting result as image!\n",
        " * According to manual annotation, there are\n",
        "177 objects in this image. Writes the script\n",
        "which comes the closest to 177. \n"
      ]
    },
    {
      "cell_type": "markdown",
      "metadata": {
        "id": "ktCyihJkBGOK",
        "colab_type": "text"
      },
      "source": [
        "### Solution\n",
        "\n",
        "\n"
      ]
    },
    {
      "cell_type": "code",
      "metadata": {
        "id": "dqUaG0SLx4HK",
        "colab_type": "code",
        "colab": {}
      },
      "source": [
        "pip install tifffile"
      ],
      "execution_count": 0,
      "outputs": []
    },
    {
      "cell_type": "code",
      "metadata": {
        "id": "GeAfnaurxoAb",
        "colab_type": "code",
        "colab": {}
      },
      "source": [
        "from tifffile import imread, imsave\n",
        "from skimage import filters\n",
        "from skimage import morphology\n",
        "import numpy as np\n",
        "from scipy import ndimage\n",
        "from skimage.morphology.watershed import watershed\n",
        "from skimage.feature import peak_local_max\n",
        "import matplotlib.pyplot as plt"
      ],
      "execution_count": 0,
      "outputs": []
    },
    {
      "cell_type": "code",
      "metadata": {
        "id": "auzpmSwl6xKu",
        "colab_type": "code",
        "colab": {}
      },
      "source": [
        "folder = \"\";\n",
        "\n",
        "# load input data\n",
        "filename = \"AS_09125_050116000001_A24f00d0_slice1_channel1.tif\";\n",
        "image = imread(folder + filename);\n",
        "plt.imshow(image,cmap='gray')\n",
        "plt.title('Input image')\n",
        "plt.show()\n",
        "\n",
        "# Gaussian blur\n",
        "blurred_image = filters.gaussian(image, 2)\n",
        "plt.imshow(blurred_image,cmap='gray')\n",
        "plt.title('Blurring')\n",
        "plt.show()\n",
        "\n",
        "# Thresholding\n",
        "threshold = filters.threshold_otsu(blurred_image)\n",
        "thresholded_image = blurred_image >= threshold\n",
        "plt.imshow(thresholded_image,cmap='gray')\n",
        "plt.title('Thresholding')\n",
        "plt.show()\n",
        "\n",
        "# Watershed + labelling\n",
        "# https://scipy-lectures.org/packages/scikit-image/index.html\n",
        "distance = ndimage.distance_transform_edt(thresholded_image)\n",
        "local_max = peak_local_max(distance, indices=False, footprint=np.ones((3, 3)), labels=thresholded_image)\n",
        "markers = ndimage.label(local_max)[0]\n",
        "labels = watershed(-distance, markers, mask=thresholded_image)\n",
        "\n",
        "# save result\n",
        "imsave(folder + filename + \"_labels.tif\", labels);\n",
        "\n",
        "print(np.max(labels))\n",
        "\n",
        "# show result\n",
        "plt.imshow(labels,cmap='gray')\n",
        "plt.title('Watershed + labelling')\n",
        "plt.show()\n"
      ],
      "execution_count": 0,
      "outputs": []
    },
    {
      "cell_type": "code",
      "metadata": {
        "id": "sbEHF3DNjtdS",
        "colab_type": "code",
        "colab": {}
      },
      "source": [
        "import sys\n",
        "import numpy\n",
        "numpy.set_printoptions(threshold=sys.maxsize)\n",
        "print(labels)"
      ],
      "execution_count": 0,
      "outputs": []
    }
  ]
}