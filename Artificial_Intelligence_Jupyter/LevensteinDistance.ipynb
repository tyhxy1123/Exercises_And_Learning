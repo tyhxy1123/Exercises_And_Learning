{
 "cells": [
  {
   "cell_type": "code",
   "execution_count": 179,
   "metadata": {},
   "outputs": [],
   "source": [
    "s1 = \"distance\"\n",
    "s2 = \"indiscret\""
   ]
  },
  {
   "cell_type": "code",
   "execution_count": 182,
   "metadata": {},
   "outputs": [],
   "source": [
    "def levensthein(s1, s2):\n",
    "    matrix = {}\n",
    "    for i in range(len(s1) + 1):\n",
    "        matrix[(i, 0)] = i\n",
    "    for i in range(len(s2) + 1):\n",
    "        matrix[(0, i)] = i\n",
    "    for i in range(1, len(s1) + 1):\n",
    "        for j in range(1, len(s2) + 1):\n",
    "            tmp = min(matrix[(i - 1, j)], matrix[(i, j - 1)], matrix[(i - 1, j - 1)])\n",
    "            if s2[j - 1] == s1[i - 1]: matrix[(i, j)] = tmp\n",
    "            else: matrix[(i, j)] = tmp + 1\n",
    "    return matrix[(len(s1), len(s2))]\n"
   ]
  },
  {
   "cell_type": "code",
   "execution_count": 183,
   "metadata": {},
   "outputs": [
    {
     "name": "stdout",
     "output_type": "stream",
     "text": [
      "7\n"
     ]
    }
   ],
   "source": [
    "print(levensthein(s2, s1))"
   ]
  },
  {
   "cell_type": "code",
   "execution_count": null,
   "metadata": {},
   "outputs": [],
   "source": []
  }
 ],
 "metadata": {
  "kernelspec": {
   "display_name": "Python 3",
   "language": "python",
   "name": "python3"
  },
  "language_info": {
   "codemirror_mode": {
    "name": "ipython",
    "version": 3
   },
   "file_extension": ".py",
   "mimetype": "text/x-python",
   "name": "python",
   "nbconvert_exporter": "python",
   "pygments_lexer": "ipython3",
   "version": "3.6.4"
  }
 },
 "nbformat": 4,
 "nbformat_minor": 2
}
