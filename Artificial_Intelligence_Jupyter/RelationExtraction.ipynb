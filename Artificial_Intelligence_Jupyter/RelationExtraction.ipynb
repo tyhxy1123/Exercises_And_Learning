{
 "cells": [
  {
   "cell_type": "code",
   "execution_count": 116,
   "metadata": {},
   "outputs": [],
   "source": [
    "cities = [\"Berlin\", \"Athens\", \"Paris\", \"Dresden\", \"New York\"]"
   ]
  },
  {
   "cell_type": "code",
   "execution_count": 117,
   "metadata": {},
   "outputs": [],
   "source": [
    "def numberExtraction(paragraph):\n",
    "    cityDict = {}\n",
    "    for city in cities:\n",
    "        cityDict[city] = 0\n",
    "    for sentence in paragraph:\n",
    "        for city in cities:\n",
    "            if(city in sentence):\n",
    "                cityDict[city] += 1\n",
    "                continue\n",
    "    print(cityDict)\n",
    "    return cityDict"
   ]
  },
  {
   "cell_type": "code",
   "execution_count": 118,
   "metadata": {},
   "outputs": [],
   "source": [
    "def relationExtraction(city1, city2, threshold, paragraph):\n",
    "    n12 = 0\n",
    "    d = numberExtraction(paragraph)\n",
    "    for sentence in paragraph:\n",
    "        if((city1 in sentence) and (city2 in sentence)):\n",
    "            n12 += 1\n",
    "    q = n12*len(paragraph)/(d[city1]*d[city2])\n",
    "    print(q)\n",
    "    if q >= 1: return True\n",
    "    else: return False\n",
    "    \n",
    "    "
   ]
  },
  {
   "cell_type": "code",
   "execution_count": 119,
   "metadata": {},
   "outputs": [
    {
     "name": "stdout",
     "output_type": "stream",
     "text": [
      "{'Berlin': 4, 'Athens': 5, 'Paris': 5, 'Dresden': 4, 'New York': 1}\n",
      "0.84\n",
      "False\n"
     ]
    }
   ],
   "source": [
    "paragraph = [\"The flight time from Athens to Paris is about 30 minutes longer than the flight time to Berlin.\",\n",
    "            \"Then we flew from Athens to Dresden, where we met our friend from Paris.\",\n",
    "            \"The flight from Athens to Dresden was too expensive, so we had to fly to Berlin.\",\n",
    "            \"It was a 14 hour bus trip from Paris to Berlin.\",\n",
    "            \"We are planning to fly from Athens to New York via Paris.\",\n",
    "            \"Paris and Dresden were probably the highlights of our Europe trip.\",\n",
    "            \"We took the bus from Dresden to Berlin, then we went to Athens by plane.\"]\n",
    "print(relationExtraction(\"Athens\", \"Paris\", 1, paragraph))"
   ]
  }
 ],
 "metadata": {
  "kernelspec": {
   "display_name": "Python 3",
   "language": "python",
   "name": "python3"
  },
  "language_info": {
   "codemirror_mode": {
    "name": "ipython",
    "version": 3
   },
   "file_extension": ".py",
   "mimetype": "text/x-python",
   "name": "python",
   "nbconvert_exporter": "python",
   "pygments_lexer": "ipython3",
   "version": "3.6.4"
  }
 },
 "nbformat": 4,
 "nbformat_minor": 2
}
