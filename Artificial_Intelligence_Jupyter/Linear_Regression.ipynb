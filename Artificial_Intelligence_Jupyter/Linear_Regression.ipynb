{
 "cells": [
  {
   "cell_type": "code",
   "execution_count": 443,
   "metadata": {},
   "outputs": [],
   "source": [
    "def gradient_descent(w0, w1, points, step):\n",
    "    sigma0 = 0\n",
    "    sigma1 = 0\n",
    "    for i in range(0, len(points)):\n",
    "        x = points[i][0]\n",
    "        y = points[i][1]\n",
    "        h = w0 + w1 * x\n",
    "        diff0 = (y - h);\n",
    "        diff1 = (y - h)*x;\n",
    "        sigma0 += diff0\n",
    "        sigma1 += diff1\n",
    "    new_w0 = w0 + step * sigma0\n",
    "    new_w1 = w1 + step * sigma1\n",
    "\n",
    "    return [new_w0, new_w1]"
   ]
  },
  {
   "cell_type": "code",
   "execution_count": 444,
   "metadata": {},
   "outputs": [],
   "source": [
    "points = [[0, 0],[30, 3.5],[50, 5],[80, 6.8],[100, 7.4],[130, 8],[180, 12]]"
   ]
  },
  {
   "cell_type": "code",
   "execution_count": 445,
   "metadata": {},
   "outputs": [],
   "source": [
    "def linear_regression(points, step):\n",
    "    a = gradient_descent(0, 0, points, step)\n",
    "    for i in range(200000):\n",
    "        a = gradient_descent(a[0], a[1], points, step)\n",
    "    return a"
   ]
  },
  {
   "cell_type": "code",
   "execution_count": 446,
   "metadata": {},
   "outputs": [
    {
     "name": "stdout",
     "output_type": "stream",
     "text": [
      "[1.1989912307634436, 0.060138570623301496]\n"
     ]
    }
   ],
   "source": [
    "print(linear_regression(points, 0.00001))"
   ]
  }
 ],
 "metadata": {
  "kernelspec": {
   "display_name": "Python 3",
   "language": "python",
   "name": "python3"
  },
  "language_info": {
   "codemirror_mode": {
    "name": "ipython",
    "version": 3
   },
   "file_extension": ".py",
   "mimetype": "text/x-python",
   "name": "python",
   "nbconvert_exporter": "python",
   "pygments_lexer": "ipython3",
   "version": "3.6.4"
  }
 },
 "nbformat": 4,
 "nbformat_minor": 2
}
