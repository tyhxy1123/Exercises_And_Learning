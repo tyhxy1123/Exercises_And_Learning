{
 "cells": [
  {
   "cell_type": "markdown",
   "metadata": {
    "colab_type": "text",
    "id": "xIIgLvIPHSon"
   },
   "source": [
    "Version 2020.01.21\n",
    "\n",
    "----\n"
   ]
  },
  {
   "cell_type": "markdown",
   "metadata": {
    "colab_type": "text",
    "id": "p5HMHh3J-vtO"
   },
   "source": [
    "# Intelligente Systeme - Bio-image analysis"
   ]
  },
  {
   "cell_type": "markdown",
   "metadata": {
    "colab_type": "text",
    "id": "So6DT5Nk_HyO"
   },
   "source": [
    "## 1. Cell count challenge\n",
    "\n",
    "* Download Broad Bioimage Benchmark Collection from\n",
    "https://data.broadinstitute.org/bbbc/BBBC008/BBBC008_v1_images.zip\n",
    "\n",
    "* Write a script (in Python or ImageJ) which segments and counts the number of cells in the first image\n",
    "AS_09125_050116000001_A24f00d0_slice1_channel1.tif\n",
    "\n",
    "* Potential workflow:\n",
    " * Blur the image\n",
    " * Threshold it\n",
    " * Apply a watershed\n",
    " * Label the image\n",
    " * Find the maximum label ID\n",
    "\n",
    "* Be a brave scientists:\n",
    " * document your script with comments,\n",
    " * output the counting result as image!\n",
    " * According to manual annotation, there are\n",
    "177 objects in this image. Writes the script\n",
    "which comes the closest to 177. \n"
   ]
  },
  {
   "cell_type": "markdown",
   "metadata": {
    "colab_type": "text",
    "id": "ktCyihJkBGOK"
   },
   "source": [
    "### Solution\n",
    "\n",
    "\n"
   ]
  },
  {
   "cell_type": "code",
   "execution_count": null,
   "metadata": {
    "colab": {},
    "colab_type": "code",
    "id": "dqUaG0SLx4HK"
   },
   "outputs": [],
   "source": [
    "pip install tifffile"
   ]
  },
  {
   "cell_type": "code",
   "execution_count": null,
   "metadata": {
    "colab": {},
    "colab_type": "code",
    "id": "GeAfnaurxoAb"
   },
   "outputs": [],
   "source": [
    "from tifffile import imread, imsave\n",
    "from skimage import filters\n",
    "from skimage import morphology\n",
    "import numpy as np\n",
    "from scipy import ndimage\n",
    "from skimage.morphology.watershed import watershed\n",
    "from skimage.feature import peak_local_max\n",
    "import matplotlib.pyplot as plt"
   ]
  },
  {
   "cell_type": "code",
   "execution_count": null,
   "metadata": {
    "colab": {},
    "colab_type": "code",
    "id": "auzpmSwl6xKu"
   },
   "outputs": [],
   "source": [
    "folder = \"\";\n",
    "\n",
    "# load input data\n",
    "filename = \"AS_09125_050116000001_A24f00d0_slice1_channel1.tif\";\n",
    "image = imread(folder + filename);\n",
    "plt.imshow(image,cmap='gray')\n",
    "plt.title('Input image')\n",
    "plt.show()\n",
    "\n",
    "# Gaussian blur\n",
    "blurred_image = filters.gaussian(image, 2)\n",
    "plt.imshow(blurred_image,cmap='gray')\n",
    "plt.title('Blurring')\n",
    "plt.show()\n",
    "\n",
    "# Thresholding\n",
    "threshold = filters.threshold_otsu(blurred_image)\n",
    "thresholded_image = blurred_image >= threshold\n",
    "plt.imshow(thresholded_image,cmap='gray')\n",
    "plt.title('Thresholding')\n",
    "plt.show()\n",
    "\n",
    "# Watershed + labelling\n",
    "# https://scipy-lectures.org/packages/scikit-image/index.html\n",
    "distance = ndimage.distance_transform_edt(thresholded_image)\n",
    "local_max = peak_local_max(distance, indices=False, footprint=np.ones((3, 3)), labels=thresholded_image)\n",
    "markers = ndimage.label(local_max)[0]\n",
    "labels = watershed(-distance, markers, mask=thresholded_image)\n",
    "\n",
    "# save result\n",
    "imsave(folder + filename + \"_labels.tif\", labels);\n",
    "\n",
    "print(np.max(labels))\n",
    "\n",
    "# show result\n",
    "plt.imshow(labels,cmap='gray')\n",
    "plt.title('Watershed + labelling')\n",
    "plt.show()\n"
   ]
  },
  {
   "cell_type": "code",
   "execution_count": null,
   "metadata": {
    "colab": {},
    "colab_type": "code",
    "id": "sbEHF3DNjtdS"
   },
   "outputs": [],
   "source": [
    "import sys\n",
    "import numpy\n",
    "numpy.set_printoptions(threshold=sys.maxsize)\n",
    "print(labels)"
   ]
  }
 ],
 "metadata": {
  "colab": {
   "collapsed_sections": [],
   "name": "11_Image analysis_solution",
   "private_outputs": true,
   "provenance": [],
   "toc_visible": true
  },
  "kernelspec": {
   "display_name": "Python 3.7.4 64-bit ('anaconda3': conda)",
   "language": "python",
   "name": "python37464bitanaconda3condaf96d51cd6d8b4b8595994399ec864388"
  },
  "language_info": {
   "codemirror_mode": {
    "name": "ipython",
    "version": 3
   },
   "file_extension": ".py",
   "mimetype": "text/x-python",
   "name": "python",
   "nbconvert_exporter": "python",
   "pygments_lexer": "ipython3",
   "version": "3.7.4"
  }
 },
 "nbformat": 4,
 "nbformat_minor": 4
}
