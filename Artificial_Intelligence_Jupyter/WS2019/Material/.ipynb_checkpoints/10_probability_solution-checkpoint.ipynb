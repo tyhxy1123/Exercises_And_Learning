{
  "nbformat": 4,
  "nbformat_minor": 0,
  "metadata": {
    "kernelspec": {
      "name": "python3",
      "display_name": "Python 3"
    },
    "language_info": {
      "codemirror_mode": {
        "name": "ipython",
        "version": 3
      },
      "file_extension": ".py",
      "mimetype": "text/x-python",
      "name": "python",
      "nbconvert_exporter": "python",
      "pygments_lexer": "ipython3",
      "version": "3.7.5"
    },
    "colab": {
      "name": "10_probability_solution.ipynb",
      "provenance": [],
      "private_outputs": true,
      "collapsed_sections": [],
      "toc_visible": true
    }
  },
  "cells": [
    {
      "cell_type": "markdown",
      "metadata": {
        "id": "xIIgLvIPHSon",
        "colab_type": "text"
      },
      "source": [
        "Version 2020.01.16\n",
        "\n",
        "----\n"
      ]
    },
    {
      "cell_type": "markdown",
      "metadata": {
        "id": "p5HMHh3J-vtO",
        "colab_type": "text"
      },
      "source": [
        "# Intelligente Systeme - Wahrscheinlichkeiten und das Naive-Bayes-Modell"
      ]
    },
    {
      "cell_type": "markdown",
      "metadata": {
        "id": "So6DT5Nk_HyO",
        "colab_type": "text"
      },
      "source": [
        "## 1. Geburtstag\n",
        "\n",
        "In einem Raum sind $N$ Personen. Wie groß ist die Wahrscheinlichkeit, dass in dem Raum heute niemand Geburtstag hat und (${\"}\\land{\"}$) morgen mindestens eine dieser Personen? \n",
        "\n",
        "Schaltjahre bleiben unberücksichtigt. Die Wahrscheinlichkeiten für einen Geburtstag seien für alle Tage konstant. \n",
        "\n",
        "(aus Intelligente Systeme Wiederholungsprüfung 2018)"
      ]
    },
    {
      "cell_type": "markdown",
      "metadata": {
        "id": "ktCyihJkBGOK",
        "colab_type": "text"
      },
      "source": [
        "### Lösung\n",
        "\n",
        "Sei H das Ereignis für heute, M das Ereignis für morgen und D die Anzahl der Tage im Jahr.\n",
        "(Außerdem soll der 1.1. auf den 31.12. folgen.)\n",
        "\n",
        "Gesucht ist \n",
        "$p(H,M)=p(H|M) \\cdot p(M) = p(H) \\cdot p(M|H)$\n",
        "\n",
        "Zur leichteren Berechbarkeit verwenden wir die letzte Variante zur Berechnung von $p(H,M)$ und erhalten:\n",
        "\n",
        "$\\left ( \\frac{D-1}{D}\\right )^N \\cdot \\left (1-\\left ( \\frac{D-2}{D-1}\\right )^N \\right ) =$\n",
        "$\\left ( \\frac{364}{365}\\right )^N \\cdot \\left (1-\\left ( \\frac{363}{364}\\right )^N \\right )$\n"
      ]
    },
    {
      "cell_type": "markdown",
      "metadata": {
        "id": "Mbi6HdZZ_NoO",
        "colab_type": "text"
      },
      "source": [
        "## 2. Geburtstage\n",
        "\n",
        "Wieviel Personen müssen in einem Raum sein, so dass die Wahrscheinlichkeit, dass (mind.) zwei Personen am gleichen Tag (nicht unbedingt heute) Geburtstag haben\n",
        "\n",
        "\ta) mindestens 0,5 ist?\n",
        "\n",
        "\tb) mindestens 99% beträgt?\n",
        "\n",
        "Schaltjahre bleiben unberücksichtigt. Die Wahrscheinlichkeiten für einen Geburtstag seien für alle Tage konstant."
      ]
    },
    {
      "cell_type": "markdown",
      "metadata": {
        "id": "wMZhJJQMBKV3",
        "colab_type": "text"
      },
      "source": [
        "### Lösung\n",
        "\n",
        "$ p(n)=1 - \\frac{365}{365} \\cdot \\frac{365-1}{365} \\cdot \\frac{365-2}{365} \\cdot \\cdot\\cdot \\frac{365-(n-1)}{365} = 1-  \\frac{365!}{(365-n)! \\cdot 365^n} \\to $\n",
        "(write a program or use e.g. Wolfram)\n",
        "\n",
        "a) $ = 23 $\n",
        "\n",
        "b) $ = 57 $ \n"
      ]
    },
    {
      "cell_type": "code",
      "metadata": {
        "id": "auzpmSwl6xKu",
        "colab_type": "code",
        "colab": {}
      },
      "source": [
        "import numpy as np\n",
        "\n",
        "def prob(n):\n",
        "  nominators = np.arange(365, 365 - n, -1)\n",
        "\n",
        "\n",
        "  return 1 - np.prod(nominators/365)\n",
        "\n",
        "# task a: >= 0.5\n",
        "i = 1\n",
        "p = prob(i)\n",
        "while p < 0.5:\n",
        "  i+=1\n",
        "  p = prob(i)\n",
        "\n",
        "print(i, p)\n",
        "\n",
        "# task b: >= 0.99\n",
        "while p < 0.99:\n",
        "  i+=1\n",
        "  p = prob(i)\n",
        "\n",
        "print(i, p)"
      ],
      "execution_count": 0,
      "outputs": []
    },
    {
      "cell_type": "markdown",
      "metadata": {
        "id": "aLPp2RM6_U3o",
        "colab_type": "text"
      },
      "source": [
        "\n",
        "## 3. Würfeln\n",
        "\n",
        "Es wird mit zwei \"ehrlichen\" Würfeln gewürfelt. Wenn die beiden gewürfelten Zahlen verschieden sind - wie ist die Wahrscheinlichkeit, dass\n",
        "\n",
        "\ta) ihre Summe 6 ist,\n",
        "\n",
        "\tb) genau eine \"1\" erscheint,\n",
        "\n",
        "\tc) die Summe 4 oder kleiner ist."
      ]
    },
    {
      "cell_type": "markdown",
      "metadata": {
        "id": "J2n0TW6WBMFM",
        "colab_type": "text"
      },
      "source": [
        "### Lösung\n",
        "Es gibt insgesamt 30 Tuple $(x_i, y_i)$, für die die beiden Augenzahlen nicht gleich sind ($x_i \\neq y_i$)\n",
        "\n",
        "a) Es gibt 4 Ausgänge: $(1, 5), (2, 4), (4, 2), (5, 1)$\n",
        "$$ p = \\frac{4}{30}= \\frac{2}{15}  $$\n",
        "\n",
        "b) Es gibt 10 Ausgänge: $(1, 2), (1, 3), (1, 4), (1, 5), (1, 6)$ und vertauscht: \n",
        "$$ p = \\frac{10}{30}=\\frac{1}{3}  $$\n",
        "\n",
        "c) Es gibt 4 Ausgänge: $(1, 2), (1, 3), (2, 1), (3, 1)$:\n",
        "$$ p = \\frac{4}{30}= \\frac{2}{15}  $$\n",
        "\n",
        "\n"
      ]
    },
    {
      "cell_type": "markdown",
      "metadata": {
        "id": "vCjHwuvH_YW8",
        "colab_type": "text"
      },
      "source": [
        "\n",
        "## 4. Kinder\n",
        "\n",
        "Mädchen und Jungen werden zufällig zu mit einer Wahrscheinlichkeit von 50% geboren. \n",
        "Wie groß ist die Wahrscheinlichkeit, dass sich Mädchen und Jungen abwechseln, wenn\n",
        "\n",
        "\ta) man 4 Mädchen und 3 Jungen bzw.,\n",
        "\n",
        "\tb) man 3 Mädchen und 3 Jungen hat."
      ]
    },
    {
      "cell_type": "markdown",
      "metadata": {
        "id": "BT45MJrNBM4U",
        "colab_type": "text"
      },
      "source": [
        "### Lösung\n",
        "\n",
        "a)  $ \\frac{4}{7} \\cdot \\frac{3}{6} \\cdot \\frac{3}{5} \\cdot \\frac{2}{4} \\cdot \\frac{2}{3} \\cdot \\frac{1}{2} =  \\frac{1}{7 \\choose 4} = \\frac{1}{35} $\n",
        "\n",
        "b) $ \\frac{3}{5} \\cdot \\frac{2}{4} \\cdot \\frac{2}{3} \\cdot \\frac{1}{2} \\cdot \\frac{2 \\cdot 3}{6} =  \\frac{2}{6 \\choose 3} = \\frac{1}{10} $"
      ]
    },
    {
      "cell_type": "markdown",
      "metadata": {
        "id": "SJOdOktn_aik",
        "colab_type": "text"
      },
      "source": [
        "## 5. Mensa\n",
        "\n",
        "Die Wahrscheinlichkeit, dass A das Mensaessen schmeckt ist 0.25 und die Wahrscheinlichkeit, dass B das Mensaessen schmeckt ist 0.4. \n",
        "Wie groß ist die Wahrscheinlichkeit, dass wenigsten einem das Mensaessen schmeckt, wenn A und B je einmal essen gehen?\n"
      ]
    },
    {
      "cell_type": "markdown",
      "metadata": {
        "id": "hyOZK7dSBNnV",
        "colab_type": "text"
      },
      "source": [
        "### Lösung\n",
        "\n",
        "$ p(\\bar A, \\bar B) = 0.75 \\cdot 0.6 = 0.45  \\to p(A \\vee B) = 1-p(\\bar A \\wedge \\bar B) = 0.55 $\n"
      ]
    },
    {
      "cell_type": "markdown",
      "metadata": {
        "id": "IGRHBAwc_cdT",
        "colab_type": "text"
      },
      "source": [
        "\n",
        "## 6. Drei Münzwürfe\n",
        "\n",
        "Eine Münze wird dreimal geworfen. \n",
        "$X$ sei 0, wenn \"Kopf\" erscheint, sonst 1 und $Y$ sei die Anzahl der geworfenen \"Köpfe\". Bestimmen Sie \n",
        "\n",
        "\ta) die Verteilungen von X und Y,\n",
        "\n",
        "\tb) die Paarverteilung (\"joint\") von X und Y,\n",
        "\n",
        "\tc) ob X und Y unabhängig sind."
      ]
    },
    {
      "cell_type": "markdown",
      "metadata": {
        "id": "5oDwnSt1BOXl",
        "colab_type": "text"
      },
      "source": [
        "### Lösung\n",
        "\n",
        "a) $ p(x=(0,1))= (\\frac{1}{2},\\frac{1}{2}) $,  $ p(y=(0,1,2,3))= (\\frac{1}{8},\\frac{3}{8},\\frac{3}{8},\\frac{1}{8}) $\n",
        "\n",
        "b) \n",
        "\n",
        "y\\x | 0 | 1\n",
        "---|----|---\n",
        "0|0| $ \\frac{1}{8} $\n",
        "1| $ \\frac{1}{8} $ | $ \\frac{1}{4} $\n",
        "2| $ \\frac{1}{4} $ | $ \\frac{1}{8} $\n",
        "3| $ \\frac{1}{8} $ | 0\n",
        "\n",
        "c) nein: $ p(x=0, y=0) = 0 \\neq p(x=0) \\cdot p(y=0) $\n"
      ]
    },
    {
      "cell_type": "markdown",
      "metadata": {
        "id": "5LbVPuYF_fCB",
        "colab_type": "text"
      },
      "source": [
        "## 7. Autos klassifizieren – Naive Bayes\n",
        "\n",
        "Gegeben ist ein Datensatz mit Informationen einer Fahrzeugversicherung. Sie sollen daraus vorhersagen, ob ein Fahrzeug wahrscheinlich gestolen wird oder nicht. Jedes Auto wird beschrieben mit seiner Farbe (red, yellow), seinem Typ (sports , SUV), und seiner Herkunft (domestic, imported).\n",
        "\n",
        "\n",
        "Id | Colour | Type | Origin | Stolen\n",
        "--- | --- | --- | --- | ---\n",
        "1 | red | sports | domestic | yes\n",
        "2 | red | sports | domestic | no \n",
        "3 | red | sports | domestic | yes\n",
        "4 | yellow | sports | domestic | no\n",
        "5 | yellow | sports | imported | yes\n",
        "6 | yellow | SUV | imported | no\n",
        "7 | yellow | SUV | imported | yes\n",
        "8 | yellow | SUV | domestic | no\n",
        "9 | red | SUV | imported | no\n",
        "10 | red | sports | imported | yes\n",
        "\n",
        "Wie würden Sie mit Hilfe des Naive Bayes Modells einen \"red domestic SUV\" klasssifizieren?\n"
      ]
    },
    {
      "cell_type": "markdown",
      "metadata": {
        "id": "XtiPy5MIBPHd",
        "colab_type": "text"
      },
      "source": [
        "### Lösung\n",
        "\n",
        "\n",
        "a) $ p(x_i | C): $\n",
        "\n",
        "$ p(red|yes)= \\frac{3}{5},p(red|no)= \\frac{2}{5}  $,\n",
        "\n",
        "$ p(SUV|yes)= \\frac{1}{5},p(SUV|no)= \\frac{3}{5}  $,\n",
        "\n",
        "$ p(dom|yes)= \\frac{2}{5},p(dom|no)= \\frac{3}{5}  $\n",
        "\n",
        "$ p(C): p(yes)=p(no)= \\frac{1}{2} $\n",
        "\n",
        "red, dom, SUV?\n",
        "\n",
        "wird gestolen:\n",
        " $$ p(yes|red, domestic, SUV) \\propto p(yes)p(yes|red)p(yes|domestic)p(yes|SUV) = \\frac{1}{2} \\cdot \\frac{3}{5} \\cdot \\frac{1}{5}  \\cdot \\frac{2}{5} = \\frac{6}{250}  $$,\n",
        "$$p(no|red, domestic, SUV) \\propto p(no)p(no|red)p(no|domestic)p(no|SUV) = \\frac{1}{2}\\cdot\\frac{2}{5} \\cdot \\frac{3}{5}  \\cdot \\frac{3}{5} = \\frac{18}{250}  $$\n",
        "\n",
        "$ \\to  $ nein!\n"
      ]
    },
    {
      "cell_type": "markdown",
      "metadata": {
        "id": "zF6sBJ-C_hmH",
        "colab_type": "text"
      },
      "source": [
        "## 8. Naive Bayes mit numerischen Variablen, Abhängigkeit, Korrelation ###\n",
        "\n",
        "Eine Zufallsvariable $x_1$ ist gleichverteilt im Intervall $[0,1]$. Eine andere Zufallsvariable $x_2$ ergibt sich aus $x_2=2x_1+1$.\n",
        "\n",
        "a) Skizzieren Sie die Träger (engl: support) der Verteilungen $p(x_1)$, $p(x_2)$, der Paarverteilung $p(x_1, x_2)$ und der Verteilung, die sich aus der Idee des Naive Bayes Modells für diese Paarverteilung ergibt in ein $(x_1,x_2)$-Diagramm!\n",
        "\n",
        "Der Support einer Funktion $f: A \\mapsto \\mathbb{R}$ ist die abgeschlossene Hülle der Nichtnullstellenmenge von $f$, also formal\n",
        "\n",
        "$$supp(f) = \\overline{\\{x\\in A| f(x) \\neq 0\\}}$$.\n",
        "\n",
        "![Verteilungen](https://docs.google.com/uc?id=1F2QD08dvs4ELI4rQFti0kB4rJ2rMcJRL)\n",
        "\n",
        "b) Wie lautet der Normierungsfaktor für $p(x_2)$ und die letztgenannte (\"Naive Bayes\") Verteilung? Da alle Verteilungen konstant sind, handelt es sich hier um die \"Höhe\" der Verteilung über dem Träger.\n",
        "    \n",
        "c)* Geben Sie ein Beispiel für eine Verteilung abhängiger (d.h. nicht unabhängiger) Variablen, die unkorreliert sind.\n",
        "    \n",
        "d) Welchen Unterschied zur Verteilung im Naive Bayes Modell der Vorlesung bemerken Sie und warum ist dieser für die betrachtete Frage nicht von Bedeutung?\n",
        "    "
      ]
    },
    {
      "cell_type": "markdown",
      "metadata": {
        "id": "HX4O1pG6BQJw",
        "colab_type": "text"
      },
      "source": [
        "### Lösung\n",
        "\n",
        "\n",
        "Diese Aufgabe soll die Wirkung der im Naive Bayes Modell gemachten Vereinfachung veranschaulichen.\n",
        "\n",
        "a) ![support solution](https://docs.google.com/uc?id=1VAOXs-Zn-Fdr5LMU3Maff14J6bKm1PH4)\n",
        "\n",
        "b) $\\frac{1}{2}$\n",
        "\n",
        "c) Eine Kreislinie oder ein \"X\" - Korrelation und Antikorrelation gleichen sich aus; das Produkt der Marginalen füllt aber das gesamte Rechteck, wenn auch nicht notwendig gleichmäßig.\n",
        "\n",
        "d) Im Naive Bayes Modell handelt es sich um eine bedingte Verteilung. Hier zwar nicht - man kann sich aber eine beliebige Bedingung dazudenken. Bedingte Verteilungen verhalten sich wie solche ohne Bedingungen (Normierung, Produktzerlegung, ...), d.h. es ändert sich hier nichts, wenn wir $p(x_1, x_2|C)$ betrachten.\n",
        "\n"
      ]
    },
    {
      "cell_type": "markdown",
      "metadata": {
        "id": "FSxaKdi4_mG_",
        "colab_type": "text"
      },
      "source": [
        "\n",
        "## 9. Normierung ###\n",
        "\n",
        "Markieren Sie alle Ausdrücke, die gleich 1 sind. Die Variablen A und B können **nicht** als unabhängig angenommen werden.\n",
        "\n",
        "\n",
        "$\\bigcirc \\hspace{5mm}\\sum_a p(A=a| B)$   \n",
        "\n",
        "$\\bigcirc \\hspace{5mm}\\sum_a\\sum_b p(A=a | B=b)$\n",
        "\n",
        "$\\bigcirc \\hspace{5mm}\\sum_b p(A | B=b)$   \n",
        "\n",
        "$\\bigcirc \\hspace{5mm}\\sum_a\\sum_b p(A=a) p( B=b)$ \n",
        "\n",
        "$\\bigcirc \\hspace{5mm}\\sum_a\\sum_b p(A=a, B=b)$   \n",
        "\n",
        "$\\bigcirc \\hspace{5mm}\\sum_a p(A=a) p( B=b)$ \n"
      ]
    },
    {
      "cell_type": "markdown",
      "metadata": {
        "id": "cCTxLehHBRFw",
        "colab_type": "text"
      },
      "source": [
        "### Lösung\n",
        "\n",
        "\n",
        "$\\otimes \\hspace{5mm}\\sum_a p(A=a| B)$  \n",
        "\n",
        "$\\bigcirc \\hspace{5mm}\\sum_a\\sum_b p(A=a | B=b)$\n",
        "\n",
        "$\\bigcirc \\hspace{5mm}\\sum_b p(A | B=b)$\n",
        "\n",
        "$\\otimes \\hspace{5mm}\\sum_a\\sum_b p(A=a) p( B=b)$ \n",
        "\n",
        "$\\otimes \\hspace{5mm}\\sum_a\\sum_b p(A=a, B=b)$\n",
        "\n",
        "$\\bigcirc \\hspace{5mm}\\sum_a p(A=a) p( B=b)$ \n",
        "\n"
      ]
    }
  ]
}