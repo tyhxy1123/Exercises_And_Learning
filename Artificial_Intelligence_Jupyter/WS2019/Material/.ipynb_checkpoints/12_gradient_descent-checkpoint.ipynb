{
 "cells": [
  {
   "cell_type": "markdown",
   "metadata": {
    "colab_type": "text",
    "id": "lyJ_XLlLKAls"
   },
   "source": [
    "Version: 2020.01.14\n",
    "\n",
    "---\n",
    "\n",
    "\n"
   ]
  },
  {
   "cell_type": "markdown",
   "metadata": {
    "colab_type": "text",
    "id": "JRPJSPbQLkzC"
   },
   "source": [
    "# Intelligente Systeme - Übung Gradientenabstiegsverfahren"
   ]
  },
  {
   "cell_type": "markdown",
   "metadata": {
    "colab_type": "text",
    "id": "tTOgbX0dLuVd"
   },
   "source": [
    "## Aufgabe 1 - Gradientenberechnung\n",
    "\n",
    "a) Berechnen Sie die Gradienten der folgenden beiden Funktionen\n",
    "\n",
    "$$f(x, y) = \\frac{1}{x^2+y^2}$$\n",
    "und \n",
    "$$f(x, y) = x^2y.$$\n",
    "\n",
    "b) Schreiben Sie die Update-Gleichungen der beiden Funktionen für das Gradientenabstiegsverfahren auf. Welche Eigenschaft des Gradienten wird hier benutzt?"
   ]
  },
  {
   "cell_type": "markdown",
   "metadata": {
    "colab_type": "text",
    "id": "kK4WU-6qORC9"
   },
   "source": [
    "## Aufgabe 2 - Lineare Regression\n",
    "Die folgende Tabelle gibt den Treibstoffverbrauch $c$ in $\\frac{l}{100 \\text{km}}$ bei gegebener Fahrtgeschwindigkeit $s$ in $\\frac{\\text{km}}{\\text{h}}$ wieder: \n",
    "\n",
    "|$s$|$c$|\n",
    "|--|--|\n",
    "|0|\t0|\n",
    "|30\t|3.5|\n",
    "|50|5|\n",
    "|80|6.8|\n",
    "|100|7.4|\n",
    "|130|8|\n",
    "|180|\t12|\n",
    "\n",
    "\n",
    "\n",
    "a) Schreiben Sie die Loss-Funktion $\\mathcal{L}(\\vec{w})$ für $n$ Datenpunkte $(s_i, c_i)$ auf. Benutzen Sie eine lineare Funktion $c(s) = w_1 s + w_0$ als Hypothese.\n",
    "\n",
    "b) Leiten Sie die Update-Gleichungen für $w_1$ und $w_0$ her. \n",
    "\n",
    "c) Vervollständigen Sie entsprechend der Update-Gleichungen den untenstehenden Code. Probieren Sie auch unterschiedliche Startwerte $w_0$ und $w_1$ aus. Was passiert für zu große Lernraten $\\alpha$, was für zu kleine Lernraten $\\alpha$?\n",
    "\n"
   ]
  },
  {
   "cell_type": "code",
   "execution_count": 1,
   "metadata": {
    "colab": {},
    "colab_type": "code",
    "id": "iiWK0etTLhPj"
   },
   "outputs": [
    {
     "data": {
      "image/png": "[encoded data removed]",
      "text/plain": [
       "<Figure size 432x288 with 1 Axes>"
      ]
     },
     "metadata": {
      "needs_background": "light"
     },
     "output_type": "display_data"
    }
   ],
   "source": [
    "import numpy as np\n",
    "import matplotlib.pyplot as plt\n",
    "%matplotlib inline\n",
    "\n",
    "def update(w1, w0, alpha, s, c):\n",
    "  n = len(s)\n",
    "  dw0 = -(1/n) * (np.sum(c - w1*s - w0))\n",
    "  dw1 = -(1/n) * (np.sum(s*(c-w1*s-w0)))\n",
    "\n",
    "  w1 = w1 - alpha*dw1\n",
    "  w0 = w0 - alpha*dw0\n",
    "\n",
    "  return w1, w0\n",
    "\n",
    "\n",
    "s = np.array([0, 30, 50, 80, 100, 130, 180])\n",
    "c = np.array([0, 3.5, 5.0, 6.8, 7.4, 8.0, 12.0])\n",
    "\n",
    "iterations = 100\n",
    "\n",
    "# Startwerte\n",
    "w1 = 2\n",
    "w0 = 2\n",
    "\n",
    "# Lernrate\n",
    "alpha = 0.0001\n",
    "\n",
    "for i in range(iterations):\n",
    "  w1, w0 = update(w1, w0, alpha, s, c)\n",
    "\n",
    "plt.figure()\n",
    "plt.xlabel(r\"$s/\\frac{km}{h}$\")\n",
    "plt.ylabel(r\"$c/\\frac{l}{100km}$\")\n",
    "plt.plot(s, c, '.')\n",
    "plt.plot(s, s*w1 + w0)\n",
    "plt.show()\n"
   ]
  },
  {
   "cell_type": "markdown",
   "metadata": {
    "colab_type": "text",
    "id": "w7fSyBKPTWBx"
   },
   "source": [
    "d) Bestimmen Sie durch Nullsetzen des Gradienten die optimalen $w_0$ und $w_1$ und vergleichen Sie mit der numerisch ermittelten Lösung.\n",
    "\n",
    "**e*)** Auch für die folgende allgemeine Hypothese \n",
    "\n",
    "$$y(x) = \\sum_{i=1}^m w_i f_i(x)$$\n",
    "\n",
    "kann man die Lossfunktion aufschreiben und durch Nullsetzen des Gradienten die optimalen Gewichte $w_i$ bestimmen. Versuchen Sie dies."
   ]
  },
  {
   "cell_type": "markdown",
   "metadata": {
    "colab_type": "text",
    "id": "ZyslSSr6WONw"
   },
   "source": [
    "## Aufgabe 3 - Visualisierung Gradientenabstiegsverfahren\n",
    "\n",
    "Für die folgende Aufgabe verwenden wir das Doppelmuldenpotential \n",
    "\n",
    "$$V(x) = ax^4 + bx^2 + cx + d$$\n",
    "\n",
    "mit $a = 1$, $b = -3$, $c =1$ und $d = 3.514$. \n",
    "\n",
    "Wir wollen mithilfe des Gradientenabstiegsverfahren das globale Minimum $x_{min}$ dieser Funktion ermitteln. Sie können sich vorstellen, dass $V$ eine Loss-Funktion mit nur einem Gewicht $x$ beschreibt. \n",
    "\n",
    "a) Berechnen Sie die Ableitung und Update-Gleichung für das Gewicht $x$ mit Lernrate $\\alpha$.\n",
    "\n",
    "b) Vervollständigen Sie entsprechend unten stehenden Code.\n",
    "\n",
    "c) Testen Sie die folgenden Kombinationen für Startwert und Lernrate $(x_0, \\alpha)$. \n",
    "\n",
    "$$(x_0, \\alpha) = (-1.75, 0.001)$$\n",
    "$$(x_0, \\alpha) = (-1.75, 0.19)$$\n",
    "$$(x_0, \\alpha) = (-1.75, 0.1)$$\n",
    "$$(x_0, \\alpha) = (-1.75, 0.205)$$\n",
    "\n",
    "d) Wie kann man einen Kompromiss zwischen $(x_0, \\alpha) = (-1.75, 0.001)$ und $(x_0, \\alpha) = (-1.75, 0.19)$ schaffen."
   ]
  },
  {
   "cell_type": "code",
   "execution_count": null,
   "metadata": {
    "colab": {},
    "colab_type": "code",
    "id": "6_O7Xu1wlaAu"
   },
   "outputs": [],
   "source": [
    "import numpy as np\n",
    "import matplotlib.pyplot as plt\n",
    "%matplotlib inline\n",
    "\n",
    "def update2(x, a, b, c, d, alpha):\n",
    "  x = ___\n",
    "\n",
    "  return x\n",
    "\n",
    "def V(x, a, b, c, d):\n",
    "  return a*x**4 + b*x**2 + c*x + d\n",
    "\n",
    "a = 1\n",
    "b = -3\n",
    "c = 1\n",
    "d = 3.514\n",
    "\n",
    "x0 = -1.75\n",
    "iterations = 101\n",
    "alphas = np.array([0.001, 0.19, 0.1, 0.205])\n",
    "\n",
    "losses = np.empty(shape=(iterations, len(alphas)))\n",
    "results = np.empty(len(alphas))\n",
    "\n",
    "for j in range(len(alphas)):\n",
    "  x = x0\n",
    "  alpha = alphas[j]\n",
    "  for i in range(iterations):\n",
    "    losses[i, j] = V(x, a, b, c, d)\n",
    "    if i != iterations - 1:\n",
    "      x = update2(x, a, b, c, d, alpha)\n",
    "  results[j] = x\n",
    "\n",
    "for j in range(len(alphas)):\n",
    "  print(100*\"-\")\n",
    "  print(\"Alpha: \", alphas[j])\n",
    "  print(\"xmin: \", results[j])\n",
    "  print(\"Loss: \", V(results[j], a, b, c, d))\n",
    "\n",
    "colors = {\n",
    "    0.001: \"blue\",\n",
    "    0.19: \"red\",\n",
    "    0.1: \"black\",\n",
    "    0.205: \"orange\"\n",
    "}\n",
    "\n",
    "plt.figure(figsize=(8, 8))\n",
    "plt.title(\"Lernkurven\")\n",
    "plt.xlabel(\"Epoche\")\n",
    "plt.ylabel(\"Loss V\")\n",
    "plt.xlim(0, iterations)\n",
    "\n",
    "for i in range(len(alphas)):\n",
    "  alpha = alphas[i]\n",
    "  plt.plot(range(iterations), losses[:, i], label=str(alpha), color=colors[alpha])\n",
    "\n",
    "plt.legend()\n",
    "plt.ylim(bottom=0)\n",
    "plt.show()\n",
    "\n",
    "plt.figure(figsize=(8, 8))\n",
    "plt.title(\"Funktion V und Minima\")\n",
    "plt.xlabel(\"x\")\n",
    "plt.ylabel(\"V(x)\")\n",
    "\n",
    "xs = np.linspace(-2, 2, 100)\n",
    "ys = V(xs, a, b, c, d)\n",
    "\n",
    "plt.plot(xs, ys)\n",
    "\n",
    "for j in range(len(alphas)):\n",
    "  alpha = alphas[j]\n",
    "  xmin = results[j]\n",
    "  vxmin = V(xmin, a, b, c, d)\n",
    "  plt.plot(xmin, vxmin, marker='.', linestyle=\"None\", label=str(alpha), color=colors[alpha], ms=10)\n",
    "plt.legend()\n",
    "plt.show()"
   ]
  }
 ],
 "metadata": {
  "colab": {
   "collapsed_sections": [],
   "name": "12_gradient_descent.ipynb",
   "private_outputs": true,
   "provenance": []
  },
  "kernelspec": {
   "display_name": "Python 3",
   "language": "python",
   "name": "python3"
  },
  "language_info": {
   "codemirror_mode": {
    "name": "ipython",
    "version": 3
   },
   "file_extension": ".py",
   "mimetype": "text/x-python",
   "name": "python",
   "nbconvert_exporter": "python",
   "pygments_lexer": "ipython3",
   "version": "3.7.4"
  }
 },
 "nbformat": 4,
 "nbformat_minor": 4
}
