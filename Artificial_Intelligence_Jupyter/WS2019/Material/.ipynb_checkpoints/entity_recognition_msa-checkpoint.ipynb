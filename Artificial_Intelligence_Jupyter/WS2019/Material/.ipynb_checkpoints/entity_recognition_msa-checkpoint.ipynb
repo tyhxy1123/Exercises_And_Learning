{
  "nbformat": 4,
  "nbformat_minor": 0,
  "metadata": {
    "colab": {
      "name": "entity_recognition_msa.ipynb",
      "provenance": [],
      "private_outputs": true,
      "collapsed_sections": []
    },
    "kernelspec": {
      "name": "python3",
      "display_name": "Python 3"
    }
  },
  "cells": [
    {
      "cell_type": "markdown",
      "metadata": {
        "id": "khX5SFzkw5KC",
        "colab_type": "text"
      },
      "source": [
        "Version: 2019.11.29\n",
        "\n",
        "---"
      ]
    },
    {
      "cell_type": "markdown",
      "metadata": {
        "id": "bFRjxs59ejTi",
        "colab_type": "text"
      },
      "source": [
        "# Relationsextraktion\n",
        "\n",
        "Dieses Lab soll Sie mit Möglichkeiten der Relationsextraktion vertraut machen. Dabei werden drei verschiedene Ansätze besprochen: *Odds Ratio*, *reguläre Ausdrücke* und *Multiple Sequence Alignment*.\n",
        "\n"
      ]
    },
    {
      "cell_type": "markdown",
      "metadata": {
        "id": "Rd8Lk6Lc2_cE",
        "colab_type": "text"
      },
      "source": [
        "## Kookkurenz - Odds Ratio\n",
        "Der *Odds-Ratio* für $n$ Datensätze, z.B. Dokumente, in denen insgesamt $n_A$-Mal die Entität $A$ vorkommt, $n_B$-Mal die Entität $B$ vorkommt und $n_{AB}$-Mal die Entitäten $A$ und $B$ zusammen auftreten, ist definiert als:\n",
        "$$q_{AB} = \\frac{n\\cdot n_{AB}}{n_A \\cdot n_B}$$\n",
        "Man kann auch den *Log Odds Ratio* einführen:\n",
        "$$q_{AB}^{log} = log_2 \\frac{n\\cdot n_{AB}}{n_A\\cdot n_B}$$\n",
        "\n",
        "Für die Entscheidung, ob eine Relation zwischen $A$ und $B$ besteht, führt man einen Threshold $t$ ein. Übersteigt der Odds Ratio $q_{AB}$ diesen Threshold $t$, so wird angenommen, dass $A$ mit $B$ in Relation steht. "
      ]
    },
    {
      "cell_type": "markdown",
      "metadata": {
        "id": "kVE--Kj8p-6T",
        "colab_type": "text"
      },
      "source": [
        "## Reguläre Ausdrücke \n",
        "Die Kennzeichnung von bestimmten Strings kann durch reguläre Ausdrücke stattfinden. Folgende Basisausdrücke sind dabei denkbar:\n",
        "-  **.** steht für beliebige Strings und wird als Wildcard bezeichnet\n",
        "-  \\*, ? und + sind Quantifikatoren. Dabei bedeutet a* eine beliebige Anzahl von a's; a+ mindestens ein a und dann beliebig viele weitere und a? ein optionales a\n",
        "- | ist das logische \"oder\". a|b bedeuted also entweder a oder b. \n",
        "\n",
        "Beispielsweise ist (a|b)a* die Menge aller Strings, die mit a oder b anfangen und dann eine beliebige Anzahl an a's haben."
      ]
    },
    {
      "cell_type": "markdown",
      "metadata": {
        "id": "u8Hdm2gArUud",
        "colab_type": "text"
      },
      "source": [
        "## Aufgabe 1\n",
        "Folgende Sätze seien gegeben. Städte sind fett gedruckt: \n",
        "- The flight time from **Athens** to **Paris** is about 30 minutes longer than the flight time to **Berlin**.\n",
        "- Then we flew from **Athens** to **Dresden**, where we met our friend from **Paris**. \n",
        "- The flight from **Athens** to **Dresden** was too expensive, so we had to fly to **Berlin**.\n",
        "- It was a 14 hour bus trip from **Paris** to **Berlin**.\n",
        "- We are planning to fly from **Athens** to **New York** via **Paris**.\n",
        "- **Paris** and **Dresden** were probably the highlights of our Europe trip.\n",
        "- We took the bus from **Dresden** to **Berlin**, then we went to **Athens** by plane.\n",
        "\n",
        "Wir wollen Flugverbindungen zwischen Städten extrahieren. Folgende Tabelle zeigt die tatsächlichen Flugverbindungen.\n",
        "\n",
        "![alt text](https://docs.google.com/uc?id=1z4b9Yc1yQIceQjOOXGt9aRwOVRqoHJFt)\n",
        "\n",
        "Berechnen Sie nach folgenden drei Methoden $Rec$, $Prec$ und $F_1$:\n",
        "\n",
        "a) Eine Verbindung zwischen zwei Städten wird aufgenommen, wenn sie im gleichen Satz vorkommen.\n",
        "\n",
        "b) Der *Odds-Ratio* wird für zwei Städte berechnet. Ist er größer als ein Threshold $t=1$, dann wird eine Verbindung zwischen den beiden Städten angenommen.\n",
        "\n",
        "c) Ein regulärer Ausdruck entscheidet über das Vorhandensein einer Verbindung zwischen  zwei Städten. Formulieren Sie selbst einen geeigneten regulären Ausdruck, der hinreichend spezifisch, aber nicht auf die gegebenen Städte limitiert ist.\n",
        "\n",
        "\n"
      ]
    },
    {
      "cell_type": "markdown",
      "metadata": {
        "id": "buIVvYB7EzBV",
        "colab_type": "text"
      },
      "source": [
        "## Multiple Sequence Alignment\n",
        "Sie haben in der Vorlesung kennengelernt, wie man Alignments von zwei Strings $a$ und $b$ berechnen kann. Dazu berechnet man die Levenshtein-Distanz mit dem Ansatz der dynamischen Programmierung. Man berechnet also die Matrixelemente $D_{i, j}$ mit:\n",
        "\n",
        "- $D_{0, 0} = 0$\n",
        "- $D_{i, 0} = i$\n",
        "- $D_{0, j} = j$\n",
        "- $ D_{i, j} = \\min \\left\\{D_{i-1, j} + 1, D_{i, j-1} + 1, D_{i-1, j-1} + cmp(a_i, b_j)\\right\\}$\n",
        "\n",
        "Dabei ist $cmp(a_i, b_j)$ meist definiert als $cmp(a_i, b_j) = \\delta_{a_i \\neq b_j}$, also gleich Eins, wenn $a_i \\neq b_j$ und sonst Null. Die Levenshtein-Distanz, d.h. die minimale Anzahl an Operationen, um die Strings zu alignen, steht dann in der rechten unteren Ecke der Matrix. Durch Benutzen des Backtraces, kann man die entsprechenden Alignments finden.\n",
        "\n",
        "Um das Alignment von $m \\geq 2$ Strings zu berechnen, gibt es verschiedene Ansätze: \n",
        "\n",
        "- Dynamische Programmierung in $mD$\n",
        "- Gierige Suche\n",
        "- $A^*$-Suche\n",
        "\n",
        "Ferner wird zusätzlich $cmp(-, -) = 1$ gesetzt. \n",
        "\n",
        "Wir benutzen die Bewertung \"Sum of Pairs\". Haben wir z.B. das Alignment\n",
        "\n",
        "    -abc\n",
        "    babd\n",
        "    -cbb\n",
        "\n",
        "so berechnet sich die Bewertung für die erste Spalte als \n",
        "\n",
        "$cmp(-, b) + cmp(-, -) + cmp(b, -) = 3$\n",
        "\n",
        "Insgesamt ergibt sich für die Summe der Bewertungen aller Spalten $3 + 2 + 0 + 3 = 8$ als Score für das gesamte Alignment.\n",
        "\n",
        "\n"
      ]
    },
    {
      "cell_type": "markdown",
      "metadata": {
        "id": "DopbrQGtIk75",
        "colab_type": "text"
      },
      "source": [
        "### Gierige Suche\n",
        "Inkrementelles Alignment, d.h. finde erst das Alignment von zwei Strings. Danach aligne einen dritten String zu diesem Alignment usw. Man beachte, dass dann entsprechend die $cmp$-Funktion angepasst werden muss. Siehe das Beispiel aus der Vorlesung.\n",
        "\n",
        "![alt text](https://docs.google.com/uc?id=1nTlrpUAq2vPa7kovysFnGU0aI7JF6sIs)\n",
        "\n",
        "Um die Bewertung gemäß des \"Sum of Pairs\"-Scores zu erhalten, müssen wir die Bewertungen für alle Alignments addieren. In obigem Beispiel haben wir für das erste Alignment von Peter und Petra einen Score von 2 und das Alignment\n",
        "\n",
        "    Peter-\n",
        "    Pet-ra\n",
        "\n",
        "Für das Alignment von diesem mit dem dritten String Pitr haben wir einen Score von 6. Insgesamt ergibt sich also ein Score von $6+2 = 8$ für das finale Alignment\n",
        "\n",
        "    Peter-\n",
        "    Pet-ra\n",
        "    Pit-r-\n",
        "\n",
        "\n"
      ]
    },
    {
      "cell_type": "markdown",
      "metadata": {
        "id": "TDNzMx2xKnGs",
        "colab_type": "text"
      },
      "source": [
        "### $A^*$-Suche\n",
        "\n",
        "Der Startknoten ist $$\\begin{pmatrix} \\\\\\\\\\end{pmatrix}$$, also die leeren Strings. Angenommen wir wollen folgende Strings alignen: \"Bob\", \"Alice\", \"Eve\". Dann wären die ersten Nachfolger des Startknotens:\n",
        "\n",
        " $$\\begin{pmatrix} B\\\\A\\\\E\\end{pmatrix}, \\begin{pmatrix} B\\\\A\\\\-\\end{pmatrix},  \\begin{pmatrix} B\\\\-\\\\E\\end{pmatrix}, \\begin{pmatrix} -\\\\A\\\\E\\end{pmatrix}, \\begin{pmatrix} B\\\\-\\\\-\\end{pmatrix}, \\begin{pmatrix} -\\\\A\\\\-\\end{pmatrix}, \\begin{pmatrix} -\\\\-\\\\E\\end{pmatrix}$$\n",
        "\n",
        "Zur Erinnerung: Wir müssen für jede Editierung die Kostenfunktion $f$ berechnen: \n",
        "\n",
        "Kosten $f$ = bisherige Kosten $g$ + Unterschätzung $h$\n",
        "\n",
        "Die Unterschätzung $h$ kann berechnet werden, indem die Summe der $\\frac{m(m-1)}{2}$ paarweisen Alignments der Reste der Zeichenketten berechnet wird."
      ]
    },
    {
      "cell_type": "markdown",
      "metadata": {
        "id": "92FhSYTLMnKZ",
        "colab_type": "text"
      },
      "source": [
        "## Aufgabe 2 - Teil 1\n",
        "In dieser Aufgabe sollen Sie das multiple Alignment der Strings \"Petra\", \"Petta\", \"Peter\" finden. Bearbeiten Sie dazu folgende Aufgaben:\n",
        "\n",
        "a) Welche Verbindung besteht zwischen dieser Aufgabe und der Relationsextraktion von Texten.\n",
        "\n",
        "b) Finden Sie mithilfe der gierigen Suche ein Alignment der drei Strings (beginnen Sie mit dem Alignment von \"Petra\", \"Petta\"). Berechnen Sie ferner die Levenshtein-Distanz."
      ]
    },
    {
      "cell_type": "markdown",
      "metadata": {
        "id": "7687puneNQOZ",
        "colab_type": "text"
      },
      "source": [
        "# Programmierung \n",
        "Im Folgenden werden Sie die entsprechende Python-Implementierung zur gierigen Suche kennenlernen. Ihre Aufgabe ist es, Lücken im Code zu füllen. \n",
        "\n",
        "Die folgende Zelle installiert das Modul *tabulate*, falls noch nicht vorhanden."
      ]
    },
    {
      "cell_type": "code",
      "metadata": {
        "id": "6nT-LRK0ecR1",
        "colab_type": "code",
        "colab": {}
      },
      "source": [
        "try: \n",
        "  from tabulate import tabulate\n",
        "except ImportError:\n",
        "  !pip install tabulate\n",
        "  from tabulate import tabulate"
      ],
      "execution_count": 0,
      "outputs": []
    },
    {
      "cell_type": "markdown",
      "metadata": {
        "id": "vkNegsdAgH1f",
        "colab_type": "text"
      },
      "source": [
        "## Aufgabe 2 c) - Implementierung Greedy-Search\n",
        "Die folgenden Zellen implementieren den unvollständigen Greedy-Algorithmus bzw. progressives Alignment. Dieser Algorithmus findet nicht immer die optimale Lösung. Lesen Sie den Code und versuchen Sie, ihn zu verstehen. In den jeweiligen Methoden wird erklärt, was die Methode jeweils tut. \n",
        "\n",
        "Vervollständigen Sie die fehlenden Stellen in den Funktionen **cmp**, **sum_of_pairs** und **lev2**."
      ]
    },
    {
      "cell_type": "code",
      "metadata": {
        "id": "3ocd3beNfWt5",
        "colab_type": "code",
        "colab": {}
      },
      "source": [
        "class MSANonOptimal:\n",
        "  \n",
        "  def __init__(self, aa):\n",
        "    self.aa = aa\n",
        "\n",
        "\n",
        "\n",
        "  def cmp(self, a, b):\n",
        "      \"\"\"Returns the score for comparing a and b, which may be characters or the gap symbol.\n",
        "      cmp defines the scoring scheme for the string distance.\"\"\"\n",
        "      if a==\"-\" or b==\"-\":\n",
        "          return 1\n",
        "      else:\n",
        "          return int(____)\n",
        "        \n",
        "        \n",
        "  def sum_of_pairs(self, aa,bb):\n",
        "    \"\"\"Computes the sum of pairs of all characters in string aa against all characters in string bb.\n",
        "    aa and bb are alignments and may contain the gap symbol.\"\"\"\n",
        "    c=0\n",
        "    for a in aa:\n",
        "        for b in bb:\n",
        "            c+=self.cmp(____, ____)\n",
        "    return c\n",
        "  \n",
        "  def min_dir(self, a,b,c):\n",
        "    \"\"\"Returns the minimum value of a, b, and c and which are minimal.\n",
        "\n",
        "    c is encoded as NW, b as N and a as W.\n",
        "    More than one can be the minimum.\n",
        "    Preference is given to NW, then N, then W.\n",
        "    This means that alignments with match/mismatch\n",
        "    from end to front are preferred. If all alignments\n",
        "    are needed, then the function has to return a set of directions\n",
        "    instead of single direction.\"\"\"\n",
        "    if c==min(a,b,c):\n",
        "        return (c,\"NW\")\n",
        "    if b==min(a,b,c):\n",
        "        return (b,\"W\")\n",
        "    if a==min(a,b,c):\n",
        "        return (a,\"N\")\n",
        "      \n",
        "  def get(self, a, i):\n",
        "    \"\"\"Returns the list of characters at position i in the alignment a, which is a list of strings.\"\"\"\n",
        "    return list(map(lambda s: s[i], a))\n",
        "  \n",
        "  def add(self, a, aas):\n",
        "    \"\"\"Given a list of n strings (an alignment) and a list of n characters, add appends character i to string i.\"\"\" \n",
        "    a2=[]\n",
        "    for i in range(len(a)):\n",
        "        a2.append(a[i]+aas[i])\n",
        "    return a2\n",
        "  \n",
        "  def align(self, a,b,d_dir,i,j):\n",
        "    \"\"\"Outputs the alignment of alignments a and b up to position i and j given the direction matrix d_dir.\n",
        "    Alignments a and b are lists of strings with the original character sequences possibly with gaps.\"\"\"\n",
        "    if i==0 and j==0:\n",
        "        return [[\"\"]*len(a),[\"\"]*len(b)]\n",
        "    elif d_dir[i,j]==\"W\":\n",
        "        (a2,b2)=self.align(a,b,d_dir,i,j-1)\n",
        "        return [self.add(a2, self.gap(a)), self.add(b2, self.get(b,j-1))]\n",
        "    elif d_dir[i,j]==\"N\":\n",
        "        (a2,b2)=self.align(a,b,d_dir,i-1,j)\n",
        "        return [self.add(a2,self.get(a,i-1)), self.add(b2,self.gap(b))]\n",
        "    elif d_dir[i,j]==\"NW\":\n",
        "        (a2,b2)=self.align(a,b,d_dir,i-1,j-1)\n",
        "        return [self.add(a2,self.get(a,i-1)), self.add(b2,self.get(b,j-1))]\n",
        "      \n",
        "  def gap(self, a):\n",
        "    \"\"\"Returns n gaps for an alignment of n sequences.\"\"\"\n",
        "    return [\"-\"]*len(a)\n",
        "  \n",
        "  def print_matrix(self, a,b,d,m,n):\n",
        "    matrix=[]\n",
        "    for s in b:\n",
        "        matrix.append([\"\"]*len(a) + [\"\"] + list(s))\n",
        "    for i in range(m+1):\n",
        "        row=[]\n",
        "        if i==0:\n",
        "            row+=[\"\"]*len(a)\n",
        "        else:\n",
        "            row+=self.get(a,i-1)\n",
        "        for j in range(n+1):\n",
        "            row.append(d[(i,j)])\n",
        "        matrix.append(row)\n",
        "    print()\n",
        "    print(\"Alignment of \"+\", \".join(a)+\" with \"+\", \".join(b))\n",
        "    print()\n",
        "    print(tabulate(matrix))\n",
        "    \n",
        "  def lev2(self, a, b):\n",
        "    \"\"\"Align the two alignments a and b and return the common alignment and its score.\"\"\"\n",
        "    m = len(a[0])\n",
        "    n = len(b[0])\n",
        "    d = dict()\n",
        "    d_dir = dict()\n",
        "    d[(0, 0)] = 0\n",
        "    d_dir[(0, 0)] = \"\"\n",
        "    for i in range(1, m + 1):\n",
        "        d[(i, 0)] = i*len(a)*len(b)\n",
        "        d_dir[(i, 0)] = \"N\"\n",
        "    for j in range(1, n + 1):\n",
        "        d[(0, j)] = j*len(a)*len(b)\n",
        "        d_dir[(0, j)] = \"W\"\n",
        "    for i in range(1, m + 1):\n",
        "        for j in range(1, n + 1):\n",
        "            (d[(i, j)],d_dir[(i, j)]) = self.min_dir(d[(___, ___)] + self.sum_of_pairs(self.get(a,i-1),self.gap(b)),\n",
        "                                            d[(___, ___)] + self.sum_of_pairs(self.gap(a),self.get(b,j-1)),\n",
        "                                            d[(___, ___)] + self.sum_of_pairs(self.get(a,i-1),self.get(b,j-1)))\n",
        "    self.print_matrix(a,b,d,m,n)\n",
        "    (a1,a2)=self.align(a,b,d_dir,m,n)\n",
        "    a1.extend(a2)\n",
        "    return (d[(m, n)], a1)\n",
        "  \n",
        "  \n",
        "  def msa(self):\n",
        "    \"\"\"Progressive alignment of the sequences in a.\n",
        "\n",
        "    Succesively, the sequences in a are added to an alignment.\n",
        "    The final alignment is returned.\"\"\"\n",
        "    b=[self.aa[0]]\n",
        "    for i in range(1,len(self.aa)):\n",
        "        (score,b) = self.lev2(b,[self.aa[i]])\n",
        "    return (score,b)"
      ],
      "execution_count": 0,
      "outputs": []
    },
    {
      "cell_type": "markdown",
      "metadata": {
        "id": "pDo9r-fBvFbX",
        "colab_type": "text"
      },
      "source": [
        "Im Aufruf von *msa* können Sie verschiedene Strings alignen.\n",
        "\n",
        "\n",
        "Überprüfen Sie Ihr Ergebnis aus Aufgabe 2b) mithilfe des implementierten Algorithmus."
      ]
    },
    {
      "cell_type": "code",
      "metadata": {
        "id": "J0sy51OshmRw",
        "colab_type": "code",
        "colab": {}
      },
      "source": [
        "################################################\n",
        "#\n",
        "# Multiple sequence alignment for list of strings\n",
        "#\n",
        "################################################\n",
        "\n",
        "\n",
        "print()\n",
        "print(\"Progressive alignment\")\n",
        "\n",
        "greedymsa = MSANonOptimal([\"Petra\", \"Petta\", \"Peter\"])\n",
        "\n",
        "score, m = greedymsa.msa()\n",
        "\n",
        "print() \n",
        "print(\"Alignment:\")\n",
        "for mm in m:\n",
        "    print(mm)\n",
        "\n",
        "print()\n",
        "print(\"The score for the last alignment:\",score)\n",
        "print()"
      ],
      "execution_count": 0,
      "outputs": []
    },
    {
      "cell_type": "markdown",
      "metadata": {
        "id": "pVYiy6b53vL-",
        "colab_type": "text"
      },
      "source": [
        "## Aufgabe 2 d) - $A^*$ -Algorithmus\n",
        "\n",
        "In den folgenden Zellen wird der $A^*$-Algorithmus implementiert. Zunächst definieren wir die Knoten (Klasse *Node*). Wir nehmen an, wir haben Strings gegeben, die wir alignen wollen. Ein Knoten besteht aus den folgenden Membern:\n",
        "- cc: characters\n",
        "- kk: Indizes, die bestimmen, welche Character der zu alignenden Strings als nächstes angehängt werden müssen. \n",
        "- h, g, f: Unterschätzung, bisherige Kosten und Gesamtkosten\n",
        "- pred: Vorgänger im $A^*$-Suchbaum\n",
        "\n",
        "\n",
        "Vervollständigen Sie die Abfrage, ob es sich um einen Endzustand handelt. (**is_endnode**)\n",
        "\n"
      ]
    },
    {
      "cell_type": "code",
      "metadata": {
        "id": "OGbe257q3uIb",
        "colab_type": "code",
        "colab": {}
      },
      "source": [
        "from typing import List\n",
        "\n",
        "\n",
        "class Node:\n",
        "    \"\"\"\n",
        "    Node class for the A*-Search. \n",
        "    Consists of a column of characters (cc). Each node is also characterized by the\n",
        "    present cost, by the underestimated cost to the aim and by the total cost g + h.\n",
        "    Furthermore we have \"pointer\" k1, k2... , which points to the character in the total strings to be aligned,\n",
        "    which needs to be added next. If the strings to be aligned have lengths i1, i2 ... the final states are\n",
        "    characterized by the condition i1 == k1...\n",
        "    The method __lt__ needs to be defined in order to implement an order on the nodes, which is necessary for dealing\n",
        "    with the PriorityQueue.\n",
        "    \"\"\"\n",
        "\n",
        "    def __init__(self, cc: List[str], kk: List[int], g: int, h: float, pred: 'Node'):\n",
        "        self.cc = cc\n",
        "        self.kk = kk\n",
        "        self.h = h\n",
        "        self.g = g\n",
        "        self.f = g + h\n",
        "        self.pred = pred\n",
        "\n",
        "    def __lt__(self, other: 'Node'):\n",
        "        return self.f < other.f\n",
        "\n",
        "    def is_endnode(self, aa: List[str]):\n",
        "        return self.kk == [len(aa[___]) for ___ in range(len(aa))]"
      ],
      "execution_count": 0,
      "outputs": []
    },
    {
      "cell_type": "markdown",
      "metadata": {
        "id": "5tqqa-FC7GSm",
        "colab_type": "text"
      },
      "source": [
        "Um eine PriorityQueue zu erstellen benutzen wir das Python-Modul *queue*. Dafür ist auch die totale Ordnung auf der Node-Klasse definiert worden. (\\__lt__-Methode)\n",
        "\n",
        "Im Folgenden wird der optimale MSA-Algorithmus mithilfe der $A^*$-Suche implementiert.\n",
        "\n",
        "Vervollständigen Sie die Blanks in den Funktionen **get_path** und **msa_alignment**.\n"
      ]
    },
    {
      "cell_type": "code",
      "metadata": {
        "id": "vmH3KNI27jN5",
        "colab_type": "code",
        "colab": {}
      },
      "source": [
        "import queue as Q\n",
        "import itertools\n",
        "\n",
        "class MSAOptimal:\n",
        "  \"\"\"\n",
        "  Implements the optimal multiple sequence alignment algorithm.\n",
        "  The class is initialized by passing the strings to be aligned to the constructor.\n",
        "  \"\"\"\n",
        "\n",
        "  def __init__(self, aa: List[str]):\n",
        "    self.aa = aa\n",
        "    start_node = Node(cc=[\"\"]*len(aa), \n",
        "                      kk=[0]*len(aa), \n",
        "                      g=0, \n",
        "                      h=self.underestimation(aa), \n",
        "                      pred=None)\n",
        "    self.start_node = start_node\n",
        "    # create a priority queue, the elements are ordered by the total cost f\n",
        "    queue = Q.PriorityQueue()\n",
        "    queue.put(start_node)\n",
        "    self.queue = queue\n",
        "\n",
        "  def append_neighbors(self, node: Node):\n",
        "    # get next characters to be added, which are aa[i][node.kk[i]]\n",
        "    # if in any string there are no characters left use the gap symbol \"-\"\n",
        "    next_characters = [self.aa[i][node.kk[i]] if node.kk[i] < len(self.aa[i]) else \"-\"\n",
        "                       for i in range(len(self.aa))]\n",
        "    # get all combinations of possibilities to choose from next_characters\n",
        "    combinations = [y for y in itertools.product([True, False], \n",
        "                                                 repeat=len(self.aa))]\n",
        "    # remove the characters to be added, which only consist of gaps\n",
        "    combinations.remove((False, )*len(self.aa))\n",
        "\n",
        "    for comb in combinations:\n",
        "        # get one new neighbor for each combination of True/False\n",
        "        # if the corresponding index in comb is True, take the this character into the next node\n",
        "        nodecc = [next_characters[i] if comb[i] else \"-\" \n",
        "                  for i in range(len(next_characters))]\n",
        "        # eliminate all only-gap character sequences\n",
        "        if nodecc != [\"-\"]*len(self.aa):\n",
        "          # if comb[i] is true, we need to add 1 to the next nodes indices at the corresponding position\n",
        "          # this is done only, if the i-th string has remaining characters\n",
        "          nodekk = [node.kk[i] + int(comb[i]) if node.kk[i]!=len(self.aa[i]) else node.kk[i]\n",
        "                    for i in range(len(next_characters))\n",
        "                    ]\n",
        "          # calculate the new present cost for the node\n",
        "          gw = node.g + self.transitioncost(nodecc)\n",
        "          # get remaining strings, which has not been aligned so far\n",
        "          raaw = [self.aa[j][nodekk[j]:] for j in range(len(self.aa))]\n",
        "          # calculate underestimation\n",
        "          hw = self.underestimation(raaw)\n",
        "          # put the neighbor into the PriorityQueue\n",
        "          self.queue.put(Node(cc=nodecc, kk=nodekk, g=gw, h=hw, pred=node))\n",
        "\n",
        "  def cmp(self, a, b):\n",
        "    if a==\"-\" or b==\"-\":\n",
        "        return 1\n",
        "    else:\n",
        "        return int(a != b)\n",
        "\n",
        "  def transitioncost(self, cc):\n",
        "    # cc are the characters for the successor\n",
        "    cost = 0\n",
        "    for i in range(len(cc)):\n",
        "      for j in range(i+1, len(cc)):\n",
        "        cost += self.cmp(cc[i], cc[j])\n",
        "    return cost\n",
        "\n",
        "  def underestimation(self, raa):\n",
        "    \"\"\"\n",
        "    raa are the rests of the strings to be aligned.\n",
        "    \"\"\"\n",
        "    m = len(raa)\n",
        "    sum = 0\n",
        "    for i in range(m - 1):\n",
        "        for j in range(i + 1, m):\n",
        "            sum += self.levdistance(aa=raa[i], bb=raa[j])\n",
        "\n",
        "    return sum\n",
        "\n",
        "  def levdistance(self, aa, bb):\n",
        "    \"\"\"\n",
        "    Simplified LevDistance-Algorithm. This class only needs the score not the\n",
        "    alignment of the rest of the strings\n",
        "    \"\"\"\n",
        "    d = {}\n",
        "    m = len(aa)\n",
        "    n = len(bb)\n",
        "\n",
        "    for i in range(m + 1):\n",
        "        d[(i, 0)] = i\n",
        "    for j in range(n + 1):\n",
        "        d[(0, j)] = j\n",
        "\n",
        "    for i in range(1, m + 1):\n",
        "        for j in range(1, n + 1):\n",
        "            d[(i, j)] = min([d[(i - 1, j)] + 1,\n",
        "                             d[(i, j - 1)] + 1,\n",
        "                             d[(i - 1, j - 1)] + int(aa[i - 1] != bb[j - 1])])\n",
        "\n",
        "    return d[(m, n)]\n",
        "\n",
        "  def get_path(self, node: Node):\n",
        "    \"\"\"\n",
        "    Given the endnode backtrace the path to the startnode and return it.\n",
        "    \"\"\"\n",
        "    path = []\n",
        "\n",
        "    # pred of startnode is set to None\n",
        "    while node is not None:\n",
        "        path.insert(___, node)\n",
        "        node = node.pred\n",
        "    return path\n",
        "\n",
        "  def print_alignment(self, path: List[Node]):\n",
        "    print(\"Best Alignment: \")\n",
        "\n",
        "    matrix = []\n",
        "    for i in range(len(self.aa)):\n",
        "        matrix.append([x.cc[i] for x in path])\n",
        "\n",
        "    print(tabulate(matrix))\n",
        "\n",
        "  def msa_alignment(self):\n",
        "    \"\"\"\n",
        "    The algorithm pops nodes out of the PriorityQueue until an end node is reached.\n",
        "    \"\"\"\n",
        "    n: Node = self.queue.get(block=False)\n",
        "    while not n.is_endnode(self.aa):\n",
        "        self.append_neighbors(node=___)\n",
        "\n",
        "        n = self.queue.get(block=False)\n",
        "    \n",
        "    path = self.get_path(n)\n",
        "    self.print_alignment(path)\n",
        "    \n",
        "    print(\"The total score is \" + str(n.f))\n",
        "    return self.get_path(n), n.f"
      ],
      "execution_count": 0,
      "outputs": []
    },
    {
      "cell_type": "markdown",
      "metadata": {
        "id": "6LmT2u9XzWQz",
        "colab_type": "text"
      },
      "source": [
        "Sie können nun den optimalen $A^*$ - Algorithmus nutzen, um das optimale Alignment von mehreren Strings zu berechnen. Vergleichen Sie den Output auch mit den Ergebnisses des Gierige-Suche-Algorithmus.\n",
        "\n",
        "\n"
      ]
    },
    {
      "cell_type": "code",
      "metadata": {
        "id": "IdIgKw0b-hBB",
        "colab_type": "code",
        "colab": {}
      },
      "source": [
        "aa = [\"Peter\", \"Petra\", \"Petta\"]\n",
        "\n",
        "\n",
        "msaoptimal = MSAOptimal(aa)\n",
        "\n",
        "path, score = msaoptimal.msa_alignment()"
      ],
      "execution_count": 0,
      "outputs": []
    }
  ]
}