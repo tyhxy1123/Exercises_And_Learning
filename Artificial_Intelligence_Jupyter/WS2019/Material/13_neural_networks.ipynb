{
 "cells": [
  {
   "cell_type": "markdown",
   "metadata": {
    "colab_type": "text",
    "id": "Hoy6QRuCJ7Vn"
   },
   "source": [
    "Version: 2020.01.14\n",
    "\n",
    "---\n"
   ]
  },
  {
   "cell_type": "markdown",
   "metadata": {
    "colab_type": "text",
    "id": "4oOq-yv8q3Eu"
   },
   "source": [
    "# Intelligente Systeme - Übung Neuronale Netze"
   ]
  },
  {
   "cell_type": "markdown",
   "metadata": {
    "colab_type": "text",
    "id": "CibsICjprrag"
   },
   "source": [
    "## Aufgabe 1 - Perzeptron\n",
    "\n",
    "Wir betrachten ein einzelnes Perzeptron mit Eingängen $(x_i, y_i)$ und Aktivierungsfunktion $f(t) = \\text{sgn}(t)$. Die Entscheidungsgrenze ist im folgenden Bild gegeben. Die roten und blauen Kreise repräsentieren dabei Beispiele mit unterschiedlichen Klassen.\n",
    "\n",
    "![Entscheidungsgrenze](https://docs.google.com/uc?id=1ouXvnfRf3IuqkBe37GxEnOeR_X2vuHX7)\n",
    "\n",
    "Bestimmen Sie anhand dieses Bildes die Gewichte $w_0$, $w_1$ und $w_2$."
   ]
  },
  {
   "cell_type": "markdown",
   "metadata": {
    "colab_type": "text",
    "id": "IsAhSLVStNTH"
   },
   "source": [
    "## Aufgabe 2 - Datentransformation\n",
    "Gegeben seien Eingangsvektoren $x \\in \\mathbb{R}_{>0}^n$ (d.h. Komponenten für Komponenten des Vektors $x$ gilt: $x_i > 0$). Diese Eingangsvektoren können anhand der Entscheidungsregel \n",
    "$$\\prod_i x_i^{w_i} \\gtrless b$$\n",
    "in zwei unterschiedliche Klassen aufgeteilt werden. \n",
    "\n",
    "Wie kann man anhand eines gelabelten Datensatzes $(x^l, k^l)$ und linearer Regression die unbekannten Parameter lernen $w_i$ und $b$.\n"
   ]
  },
  {
   "cell_type": "markdown",
   "metadata": {
    "colab_type": "text",
    "id": "ruL00UW-virI"
   },
   "source": [
    "## Aufgabe 3 - Logische Netzwerke\n",
    "\n",
    "Wir betrachten die boolsche Funktion\n",
    "\n",
    "$$y = (x_1 \\lor \\overline{x_2})\\land (\\overline{x_1}\\lor x_3),$$\n",
    "welche jedem Tripel $x = (x_1, x_2, x_3)$ boolscher Variablen, $x_i \\in \\{0, 1\\}$ (Input) einen boolschen Wert $y\\in \\{0, 1\\}$ (Output) zuweist.\n",
    "\n",
    "a) Konstruieren Sie ein Feed-Forward-Netzwerk mit Schwellwert-Neuronen, welches diese Funktion implementiert. \n",
    "\n",
    "Wie viele Neuronen und wieviele Schichten werden gebraucht? \n",
    "\n",
    "Wie müssen die Neuronen verbunden werden? \n",
    "\n",
    "Wie sind die Gewichte und Schwellwerte der Neuronen? \n",
    "\n",
    "b) Generalisieren Sie dieses Vorgehen auf beliebige boolsche Funktionen, d.h. beliebige Funktionen $f: \\{0, 1\\}^n \\mapsto \\{0, 1\\}$.\n",
    "\n",
    "c) Zeigen Sie ferner, dass jede boolsche Funktion nur mit einem Feed-Forward-Netzwerk mit nur einer versteckten (hidden) Schicht realisiert werden kann. \n",
    "\n",
    "Welches Netzwerk erhält man beispielsweise für die Funktion\n",
    "$$y = (x_1 \\lor \\overline{x_2}) \\land x_3$$"
   ]
  },
  {
   "cell_type": "markdown",
   "metadata": {
    "colab_type": "text",
    "id": "OkR5UPqj4aEI"
   },
   "source": [
    "## Aufgabe 4 - Anzahl lernbarer Parameter\n",
    "\n",
    "Gegeben sei ein Netzwerk mit einer Input-Schicht, einer Hidden-Schicht und einer Output-Schicht. Die Input-Schicht hat $i$ Neuronen. Die Hidden-Schicht hat $h$ Neuronen. Die Output-Schicht hat $o$ Neuronen. Die Input-Schicht sei vollständig mit der Hidden-Schicht verbunden. Die Hidden-Schicht sei vollständig mit der Output-Schicht verbunden.\n",
    "\n",
    "a) Wieviele Parameter müssen wir in diesem Netzwerk optimieren? Was ergibt sich für $i =4$, $h = 3$ und $o = 2$?\n",
    "\n",
    "*Hinweis:* Für die Output-Schicht wird oft die Softmax-Aktivierungsfunktion verwendet. Daher braucht man für die Output-Schicht keine Bias-Neuronen. Machen Sie sich das auch anhand der Formel für die Softmax-Aktivierungsfunktion klar.\n",
    "\n",
    "b) Zeichen Sie das Netz!"
   ]
  }
 ],
 "metadata": {
  "colab": {
   "collapsed_sections": [],
   "name": "13_neural_networks.ipynb",
   "private_outputs": true,
   "provenance": []
  },
  "kernelspec": {
   "display_name": "Python 3",
   "language": "python",
   "name": "python3"
  },
  "language_info": {
   "codemirror_mode": {
    "name": "ipython",
    "version": 3
   },
   "file_extension": ".py",
   "mimetype": "text/x-python",
   "name": "python",
   "nbconvert_exporter": "python",
   "pygments_lexer": "ipython3",
   "version": "3.7.4"
  }
 },
 "nbformat": 4,
 "nbformat_minor": 4
}
