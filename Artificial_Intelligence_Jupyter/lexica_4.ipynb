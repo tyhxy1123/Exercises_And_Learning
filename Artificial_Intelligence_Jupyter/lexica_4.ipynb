{
 "cells": [
  {
   "cell_type": "markdown",
   "metadata": {
    "colab_type": "text",
    "id": "wzRM1z5yo2MS"
   },
   "source": [
    "# Entitätenerkennung mit Lexika\n",
    "## Aufgabe 1 - Levensthein-Distanz\n",
    "Die Levensthein-Distanz kann genutzt werden um Entitäten trotz Rechtschreibfehlern zu erkennen.\n",
    "\n",
    "1. Vervollständigen Sie den Code zur Berechnung der Levensthein-Distanz.\n",
    "2. Berechnen Sie schriftlich die Levensthein-Distanz der Wörter \"Peter\" und \"Per\", sowie von \"Dieter\" und \"Pitr\". Vergleichen Sie die Ergebnisse mit denen Ihrer Funktion.\n",
    "3. In natürlichen Sprachen werden besonders häufig die Buchstaben o/u, e/i, p/b, d/t, usw. miteinander vertauscht. Erweitern Sie diese Liste entsprechend Ihren eigenen Erfahrungen und implementieren Sie die nötigen Änderungen, um diese Verwechslungen mit 0.5 statt mit 1 zu bestrafen."
   ]
  },
  {
   "cell_type": "markdown",
   "metadata": {
    "colab_type": "text",
    "id": "Erj8fNk4suwY"
   },
   "source": [
    "### 1. Vervollständigen Sie den Code zur Berechnung der Levensthein-Distanz."
   ]
  },
  {
   "cell_type": "code",
   "execution_count": 52,
   "metadata": {
    "colab": {},
    "colab_type": "code",
    "id": "XwaByuOBs9lm"
   },
   "outputs": [],
   "source": [
    "def lev(a, b):\n",
    "  m, n = len(a), len(b)\n",
    "  d = {} # dictionary \"misused\" as matrix\n",
    "  for i in range(0, m + 1):\n",
    "    d[(i, 0)] = i\n",
    "  for j in range(0, n + 1):\n",
    "    d[(0, j)] = j\n",
    "  for i in range(1, m + 1):\n",
    "    for j in range(1, n + 1):\n",
    "      # delta is 1 iff mismatch of characters\n",
    "      delta = int(a[i - 1] != b[j - 1])\n",
    "      d[(i, j)] = min(d[(i - 1, j)] + delta,\n",
    "                      d[(i, j - 1)] + delta,\n",
    "                      d[(i - 1, j - 1)] + delta)\n",
    "  return d[(m, n)]"
   ]
  },
  {
   "cell_type": "markdown",
   "metadata": {
    "colab_type": "text",
    "id": "2XS5La8yt1Fk"
   },
   "source": [
    "### 2. Berechnen Sie die Levensthein-Distanz von \"Peter\" und \"Per\", sowie \"Dieter\" und \"Pitr\"."
   ]
  },
  {
   "cell_type": "code",
   "execution_count": 53,
   "metadata": {
    "colab": {},
    "colab_type": "code",
    "id": "G2YIK958uGfM"
   },
   "outputs": [
    {
     "name": "stdout",
     "output_type": "stream",
     "text": [
      "lev(\"Peter\", \"Per\") = 1\n",
      "lev(\"Dieter\", \"Pitr\") = 3\n"
     ]
    }
   ],
   "source": [
    "print(\"lev(\\\"Peter\\\", \\\"Per\\\") =\", lev(\"Peter\", \"Per\"))\n",
    "print(\"lev(\\\"Dieter\\\", \\\"Pitr\\\") =\", lev(\"Dieter\", \"Pitr\"))"
   ]
  },
  {
   "cell_type": "markdown",
   "metadata": {
    "colab_type": "text",
    "id": "JsZZ-WD5_cHF"
   },
   "source": [
    "### 3. Vervollständigen und ändern Sie den Code zur Berechnung der angepassten Levensthein-Distanz."
   ]
  },
  {
   "cell_type": "code",
   "execution_count": 54,
   "metadata": {
    "colab": {},
    "colab_type": "code",
    "id": "wRnT9vSj_pRT"
   },
   "outputs": [
    {
     "name": "stdout",
     "output_type": "stream",
     "text": [
      "lev_adapt(\"Nicole\", \"Nikole\") = 1.5\n",
      "lev(\"Nicole\", \"Nikole\") = 2\n"
     ]
    }
   ],
   "source": [
    "# o/u, e/i, p/b, d/t\n",
    "haufig = [('o', 'u'), ('u', 'o'), ('e', 'i'), ('i', 'e'), ('p', 'b'), ('b', 'p'), ('d', 't'), ('t', 'd')]\n",
    "\n",
    "def lev_adapt(a, b):\n",
    "    m, n = len(a), len(b)\n",
    "    d = {} # dictionary \"misused\" as matrix\n",
    "    for i in range(0, m + 1):\n",
    "        d[(i, 0)] = i\n",
    "    for j in range(0, n + 1):\n",
    "        d[(0, j)] = j\n",
    "    for i in range(1, m + 1):\n",
    "        for j in range(1, n + 1):\n",
    "            t1 = a[i - 1]\n",
    "            t2 = b[j - 1]\n",
    "            if(t1 == t2):\n",
    "                d[(i, j)] = d[(i - 1, j - 1)]\n",
    "            elif(t1 != t2):\n",
    "                if((t1, t2) in haufig):\n",
    "                    d[(i, j)] = min(d[(i - 1, j)] + 1,\n",
    "                                    d[(i, j - 1)] + 1,\n",
    "                                    d[(i - 1, j - 1)] + 0.5)\n",
    "                else: d[(i, j)] = min(d[(i - 1, j)] + 1,\n",
    "                      d[(i, j - 1)] + 1,\n",
    "                      d[(i - 1, j - 1)] + 1)\n",
    "    return d[(m, n)]\n",
    "\n",
    "print(\"lev_adapt(\\\"Nicole\\\", \\\"Nikole\\\") =\", lev_adapt(\"Nicoli\", \"Nikole\"))\n",
    "print(\"lev(\\\"Nicole\\\", \\\"Nikole\\\") =\", lev(\"Nicoli\", \"Nikole\"))"
   ]
  },
  {
   "cell_type": "markdown",
   "metadata": {
    "colab_type": "text",
    "id": "FYL8rCL5_8VN"
   },
   "source": [
    "## Aufgabe 2 - Trie- und Radix-Trees\n",
    "1. Erstellen Sie einen einen Trie- und einen Radix-Tree für die Namen Michael, Michel, Michele, Michal, Michaela, Michela, Mikael, and Mikhail.\n",
    "2. Stellen Sie sich eine Methode `eq` vor, welche zwei Zeichenketten zeichenweise vergleicht, und bei dem ersten nicht-übereinstimmenden Zeichenpaar `false` zurückgibt. Wie viele Zeichenvergleiche würde `eq` benötigen um festzustellen, dass Michiel nicht in der obigen Liste auftaucht? Wie viele Vergleiche würde der Trie- bzw. der Radix-Tree dafür benötigen?\n",
    "\n"
   ]
  },
  {
   "cell_type": "markdown",
   "metadata": {
    "colab_type": "text",
    "id": "7YbdhBRCCX-m"
   },
   "source": [
    "## Aufgabe 3- Schnelle unscharfe Suche\n",
    "1. Der Dice Koeffizient vergleicht die Anzahl gemeinsamer Trigramme zweier Zeichenketten. Michael hat beispielsweise die Trigramme Mic, ich, cha, hae und ael. Sei *t(a)* die Menge der Trigramme der Zeichenkette *a*. Dann ist\n",
    "\\begin{equation*}\n",
    "    \\mathrm{dice}(a, b) = \\frac{2 \\cdot \\vert t(a) \\cap t(b) \\vert}{\\vert t(a) \\vert + \\vert t(b) \\vert}\n",
    "\\end{equation*}\n",
    "der Dice Koeffizient der Zeichenketten $a$ und $b$. Berechnen Sie schriftlich die Dice Koffenzienten der Paare Michael/Michel, Michael/Michele und Michael/Petra. Wie verhält sich der Dice Koeffizient in Vergleich zur Levensthein Distanz?\n",
    "2. Vervollständigen Sie den Code zur Berechnung des Dice Koeffizients"
   ]
  },
  {
   "cell_type": "code",
   "execution_count": 55,
   "metadata": {
    "colab": {},
    "colab_type": "code",
    "id": "kSg1J-952Urc"
   },
   "outputs": [],
   "source": [
    "def dice(a,b):\n",
    "  count = 0\n",
    "#   t_a = set([a[i:i+3] for i in range(len(a)-2)])\n",
    "#   t_b = set([b[i:i+3] for i in range(len(b)-2)])\n",
    "  t_a = set()\n",
    "  t_b = set()\n",
    "  for i in range(len(a) - 2):\n",
    "    t_a.add(a[i:i+3])\n",
    "  for i in range(len(b) - 2):\n",
    "    t_b.add(b[i:i+3])\n",
    "  for word in t_a:\n",
    "    if(word in t_b): count += 1\n",
    "  dice_ab = 2*count/(len(t_a) + len(t_b))\n",
    "  return dice_ab"
   ]
  },
  {
   "cell_type": "code",
   "execution_count": 56,
   "metadata": {
    "colab": {},
    "colab_type": "code",
    "id": "CQ0KLEYn2k5K"
   },
   "outputs": [
    {
     "name": "stdout",
     "output_type": "stream",
     "text": [
      "dice(\"Michael\", \"Michel\") = 0.4444444444444444\n",
      "dice(\"Michael\", \"Michele\") = 0.4\n",
      "dice(\"Michael\", \"Petra\") = 0.0\n"
     ]
    }
   ],
   "source": [
    "print(\"dice(\\\"Michael\\\", \\\"Michel\\\") =\", dice(\"Michael\", \"Michel\"))\n",
    "print(\"dice(\\\"Michael\\\", \\\"Michele\\\") =\", dice(\"Michael\", \"Michele\"))\n",
    "print(\"dice(\\\"Michael\\\", \\\"Petra\\\") =\", dice(\"Michael\", \"Petra\"))"
   ]
  },
  {
   "cell_type": "code",
   "execution_count": 57,
   "metadata": {},
   "outputs": [
    {
     "name": "stdout",
     "output_type": "stream",
     "text": [
      "{'b', 'c'}\n"
     ]
    }
   ],
   "source": [
    "test1 = ['a', 'b', 'c']\n",
    "test2 = ['b', 'c', 'd']\n",
    "test1 = set(test1)\n",
    "test2 = set(test2)\n",
    "print(test1 & test2)"
   ]
  }
 ],
 "metadata": {
  "colab": {
   "collapsed_sections": [],
   "name": "lexica_4.ipynb",
   "private_outputs": true,
   "provenance": [],
   "version": "0.3.2"
  },
  "kernelspec": {
   "display_name": "Python 3",
   "language": "python",
   "name": "python3"
  },
  "language_info": {
   "codemirror_mode": {
    "name": "ipython",
    "version": 3
   },
   "file_extension": ".py",
   "mimetype": "text/x-python",
   "name": "python",
   "nbconvert_exporter": "python",
   "pygments_lexer": "ipython3",
   "version": "3.6.4"
  }
 },
 "nbformat": 4,
 "nbformat_minor": 1
}
